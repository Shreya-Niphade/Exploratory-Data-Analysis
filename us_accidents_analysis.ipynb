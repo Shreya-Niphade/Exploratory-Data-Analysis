{
  "cells": [
    {
      "cell_type": "markdown",
      "metadata": {
        "id": "view-in-github",
        "colab_type": "text"
      },
      "source": [
        "<a href=\"https://colab.research.google.com/github/Shreya-Niphade/Exploratory-Data-Analysis/blob/main/us_accidents_analysis.ipynb\" target=\"_parent\"><img src=\"https://colab.research.google.com/assets/colab-badge.svg\" alt=\"Open In Colab\"/></a>"
      ]
    },
    {
      "cell_type": "code",
      "execution_count": 1,
      "metadata": {
        "colab": {
          "base_uri": "https://localhost:8080/"
        },
        "id": "Ip_dBqiGUSF8",
        "outputId": "c848abf2-f7c0-49c2-ab4d-1dde7387896d"
      },
      "outputs": [
        {
          "output_type": "stream",
          "name": "stdout",
          "text": [
            "\u001b[?25l\r\u001b[K     |████▊                           | 10 kB 30.8 MB/s eta 0:00:01\r\u001b[K     |█████████▌                      | 20 kB 24.1 MB/s eta 0:00:01\r\u001b[K     |██████████████▎                 | 30 kB 32.2 MB/s eta 0:00:01\r\u001b[K     |███████████████████             | 40 kB 17.5 MB/s eta 0:00:01\r\u001b[K     |███████████████████████▉        | 51 kB 12.9 MB/s eta 0:00:01\r\u001b[K     |████████████████████████████▋   | 61 kB 15.1 MB/s eta 0:00:01\r\u001b[K     |████████████████████████████████| 68 kB 5.5 MB/s \n",
            "\u001b[?25h  Building wheel for uuid (setup.py) ... \u001b[?25l\u001b[?25hdone\n"
          ]
        }
      ],
      "source": [
        "# Jovian Commit Essentials\n",
        "# Please retain and execute this cell without modifying the contents for `jovian.commit` to work\n",
        "!pip install jovian --upgrade -q\n",
        "import jovian\n",
        "jovian.set_project('us-accidents-analysis')\n",
        "jovian.set_colab_id('10WEC3iKWskpCP01xjNxbtOsthIt3Nouo')"
      ]
    },
    {
      "cell_type": "code",
      "execution_count": null,
      "metadata": {
        "id": "P9hKqYN-USGD"
      },
      "outputs": [],
      "source": [
        "# Execute this to save new versions of the notebook\n",
        "jovian.commit(project=\"us-accidents-analysis\")"
      ]
    },
    {
      "cell_type": "markdown",
      "source": [
        "# US Accidents Exploratory Data Analysis\n",
        "\n",
        "TODO - talk about EDA\n",
        "\n",
        "TODO - talk about the dataset (source,what it contains, how it will be useful)\n",
        "  \n",
        "\n",
        "*   Kaggle\n",
        "*   information about accidents\n",
        "*   can be useful for to prevent accidents\n",
        "*   mention that this does not conatin data about New York\n",
        "\n",
        "\n",
        "\n",
        "\n",
        "\n",
        "\n"
      ],
      "metadata": {
        "id": "-sW6dqqOVCQH"
      }
    },
    {
      "cell_type": "code",
      "execution_count": 4,
      "metadata": {
        "id": "jZ9TTT9GUSGD"
      },
      "outputs": [],
      "source": [
        "pip install opendatasets --upgrade --quiet"
      ]
    },
    {
      "cell_type": "code",
      "source": [
        "import opendatasets as od\n",
        "\n",
        "download_url = 'https://www.kaggle.com/datasets/sobhanmoosavi/us-accidents'\n",
        "od.download(download_url)"
      ],
      "metadata": {
        "colab": {
          "base_uri": "https://localhost:8080/"
        },
        "id": "nmQB7XWlW8bP",
        "outputId": "420650d5-d35d-42f4-98d2-13e6ad7c9f92"
      },
      "execution_count": 5,
      "outputs": [
        {
          "output_type": "stream",
          "name": "stdout",
          "text": [
            "Please provide your Kaggle credentials to download this dataset. Learn more: http://bit.ly/kaggle-creds\n",
            "Your Kaggle username: shreyaniphade\n",
            "Your Kaggle Key: ··········\n",
            "Downloading us-accidents.zip to ./us-accidents\n"
          ]
        },
        {
          "output_type": "stream",
          "name": "stderr",
          "text": [
            "100%|██████████| 269M/269M [00:04<00:00, 65.6MB/s]\n"
          ]
        },
        {
          "output_type": "stream",
          "name": "stdout",
          "text": [
            "\n"
          ]
        }
      ]
    },
    {
      "cell_type": "code",
      "source": [
        "data_filename = './us-accidents/US_Accidents_Dec21_updated.csv'"
      ],
      "metadata": {
        "id": "2pzgy-lJZbOI"
      },
      "execution_count": 8,
      "outputs": []
    },
    {
      "cell_type": "markdown",
      "source": [
        "## Data Preparation and Cleaning\n",
        "\n",
        "1. Load the file using Pandas\n",
        "2. Look at some information about the dataand the columns\n",
        "3. Fix any missing or incorrect values\n"
      ],
      "metadata": {
        "id": "414QMbEiZz4J"
      }
    },
    {
      "cell_type": "code",
      "source": [
        "import pandas as pd"
      ],
      "metadata": {
        "id": "QSNi0dFnZbff"
      },
      "execution_count": 9,
      "outputs": []
    },
    {
      "cell_type": "code",
      "source": [
        "df = pd.read_csv(data_filename)"
      ],
      "metadata": {
        "id": "qceRba01Z4jw"
      },
      "execution_count": 10,
      "outputs": []
    },
    {
      "cell_type": "code",
      "source": [
        "df"
      ],
      "metadata": {
        "colab": {
          "base_uri": "https://localhost:8080/",
          "height": 939
        },
        "id": "laTTPytaZbij",
        "outputId": "e0e31454-9403-4a3e-d0e4-7e999d169f30"
      },
      "execution_count": 11,
      "outputs": [
        {
          "output_type": "execute_result",
          "data": {
            "text/plain": [
              "                ID  Severity           Start_Time             End_Time  \\\n",
              "0              A-1         3  2016-02-08 00:37:08  2016-02-08 06:37:08   \n",
              "1              A-2         2  2016-02-08 05:56:20  2016-02-08 11:56:20   \n",
              "2              A-3         2  2016-02-08 06:15:39  2016-02-08 12:15:39   \n",
              "3              A-4         2  2016-02-08 06:51:45  2016-02-08 12:51:45   \n",
              "4              A-5         3  2016-02-08 07:53:43  2016-02-08 13:53:43   \n",
              "...            ...       ...                  ...                  ...   \n",
              "2845337  A-2845338         2  2019-08-23 18:03:25  2019-08-23 18:32:01   \n",
              "2845338  A-2845339         2  2019-08-23 19:11:30  2019-08-23 19:38:23   \n",
              "2845339  A-2845340         2  2019-08-23 19:00:21  2019-08-23 19:28:49   \n",
              "2845340  A-2845341         2  2019-08-23 19:00:21  2019-08-23 19:29:42   \n",
              "2845341  A-2845342         2  2019-08-23 18:52:06  2019-08-23 19:21:31   \n",
              "\n",
              "         Start_Lat   Start_Lng    End_Lat     End_Lng  Distance(mi)  \\\n",
              "0        40.108910  -83.092860  40.112060  -83.031870         3.230   \n",
              "1        39.865420  -84.062800  39.865010  -84.048730         0.747   \n",
              "2        39.102660  -84.524680  39.102090  -84.523960         0.055   \n",
              "3        41.062130  -81.537840  41.062170  -81.535470         0.123   \n",
              "4        39.172393  -84.492792  39.170476  -84.501798         0.500   \n",
              "...            ...         ...        ...         ...           ...   \n",
              "2845337  34.002480 -117.379360  33.998880 -117.370940         0.543   \n",
              "2845338  32.766960 -117.148060  32.765550 -117.153630         0.338   \n",
              "2845339  33.775450 -117.847790  33.777400 -117.857270         0.561   \n",
              "2845340  33.992460 -118.403020  33.983110 -118.395650         0.772   \n",
              "2845341  34.133930 -117.230920  34.137360 -117.239340         0.537   \n",
              "\n",
              "                                               Description  ...  Roundabout  \\\n",
              "0        Between Sawmill Rd/Exit 20 and OH-315/Olentang...  ...       False   \n",
              "1                       At OH-4/OH-235/Exit 41 - Accident.  ...       False   \n",
              "2                         At I-71/US-50/Exit 1 - Accident.  ...       False   \n",
              "3                          At Dart Ave/Exit 21 - Accident.  ...       False   \n",
              "4                       At Mitchell Ave/Exit 6 - Accident.  ...       False   \n",
              "...                                                    ...  ...         ...   \n",
              "2845337                           At Market St - Accident.  ...       False   \n",
              "2845338    At Camino Del Rio/Mission Center Rd - Accident.  ...       False   \n",
              "2845339  At Glassell St/Grand Ave - Accident. in the ri...  ...       False   \n",
              "2845340     At CA-90/Marina Fwy/Jefferson Blvd - Accident.  ...       False   \n",
              "2845341              At Highland Ave/Arden Ave - Accident.  ...       False   \n",
              "\n",
              "        Station   Stop Traffic_Calming Traffic_Signal Turning_Loop  \\\n",
              "0         False  False           False          False        False   \n",
              "1         False  False           False          False        False   \n",
              "2         False  False           False          False        False   \n",
              "3         False  False           False          False        False   \n",
              "4         False  False           False          False        False   \n",
              "...         ...    ...             ...            ...          ...   \n",
              "2845337   False  False           False          False        False   \n",
              "2845338   False  False           False          False        False   \n",
              "2845339   False  False           False          False        False   \n",
              "2845340   False  False           False          False        False   \n",
              "2845341   False  False           False          False        False   \n",
              "\n",
              "        Sunrise_Sunset Civil_Twilight Nautical_Twilight Astronomical_Twilight  \n",
              "0                Night          Night             Night                 Night  \n",
              "1                Night          Night             Night                 Night  \n",
              "2                Night          Night             Night                   Day  \n",
              "3                Night          Night               Day                   Day  \n",
              "4                  Day            Day               Day                   Day  \n",
              "...                ...            ...               ...                   ...  \n",
              "2845337            Day            Day               Day                   Day  \n",
              "2845338            Day            Day               Day                   Day  \n",
              "2845339            Day            Day               Day                   Day  \n",
              "2845340            Day            Day               Day                   Day  \n",
              "2845341            Day            Day               Day                   Day  \n",
              "\n",
              "[2845342 rows x 47 columns]"
            ],
            "text/html": [
              "\n",
              "  <div id=\"df-f742ea1b-81d9-46d0-9e13-209594cf809e\">\n",
              "    <div class=\"colab-df-container\">\n",
              "      <div>\n",
              "<style scoped>\n",
              "    .dataframe tbody tr th:only-of-type {\n",
              "        vertical-align: middle;\n",
              "    }\n",
              "\n",
              "    .dataframe tbody tr th {\n",
              "        vertical-align: top;\n",
              "    }\n",
              "\n",
              "    .dataframe thead th {\n",
              "        text-align: right;\n",
              "    }\n",
              "</style>\n",
              "<table border=\"1\" class=\"dataframe\">\n",
              "  <thead>\n",
              "    <tr style=\"text-align: right;\">\n",
              "      <th></th>\n",
              "      <th>ID</th>\n",
              "      <th>Severity</th>\n",
              "      <th>Start_Time</th>\n",
              "      <th>End_Time</th>\n",
              "      <th>Start_Lat</th>\n",
              "      <th>Start_Lng</th>\n",
              "      <th>End_Lat</th>\n",
              "      <th>End_Lng</th>\n",
              "      <th>Distance(mi)</th>\n",
              "      <th>Description</th>\n",
              "      <th>...</th>\n",
              "      <th>Roundabout</th>\n",
              "      <th>Station</th>\n",
              "      <th>Stop</th>\n",
              "      <th>Traffic_Calming</th>\n",
              "      <th>Traffic_Signal</th>\n",
              "      <th>Turning_Loop</th>\n",
              "      <th>Sunrise_Sunset</th>\n",
              "      <th>Civil_Twilight</th>\n",
              "      <th>Nautical_Twilight</th>\n",
              "      <th>Astronomical_Twilight</th>\n",
              "    </tr>\n",
              "  </thead>\n",
              "  <tbody>\n",
              "    <tr>\n",
              "      <th>0</th>\n",
              "      <td>A-1</td>\n",
              "      <td>3</td>\n",
              "      <td>2016-02-08 00:37:08</td>\n",
              "      <td>2016-02-08 06:37:08</td>\n",
              "      <td>40.108910</td>\n",
              "      <td>-83.092860</td>\n",
              "      <td>40.112060</td>\n",
              "      <td>-83.031870</td>\n",
              "      <td>3.230</td>\n",
              "      <td>Between Sawmill Rd/Exit 20 and OH-315/Olentang...</td>\n",
              "      <td>...</td>\n",
              "      <td>False</td>\n",
              "      <td>False</td>\n",
              "      <td>False</td>\n",
              "      <td>False</td>\n",
              "      <td>False</td>\n",
              "      <td>False</td>\n",
              "      <td>Night</td>\n",
              "      <td>Night</td>\n",
              "      <td>Night</td>\n",
              "      <td>Night</td>\n",
              "    </tr>\n",
              "    <tr>\n",
              "      <th>1</th>\n",
              "      <td>A-2</td>\n",
              "      <td>2</td>\n",
              "      <td>2016-02-08 05:56:20</td>\n",
              "      <td>2016-02-08 11:56:20</td>\n",
              "      <td>39.865420</td>\n",
              "      <td>-84.062800</td>\n",
              "      <td>39.865010</td>\n",
              "      <td>-84.048730</td>\n",
              "      <td>0.747</td>\n",
              "      <td>At OH-4/OH-235/Exit 41 - Accident.</td>\n",
              "      <td>...</td>\n",
              "      <td>False</td>\n",
              "      <td>False</td>\n",
              "      <td>False</td>\n",
              "      <td>False</td>\n",
              "      <td>False</td>\n",
              "      <td>False</td>\n",
              "      <td>Night</td>\n",
              "      <td>Night</td>\n",
              "      <td>Night</td>\n",
              "      <td>Night</td>\n",
              "    </tr>\n",
              "    <tr>\n",
              "      <th>2</th>\n",
              "      <td>A-3</td>\n",
              "      <td>2</td>\n",
              "      <td>2016-02-08 06:15:39</td>\n",
              "      <td>2016-02-08 12:15:39</td>\n",
              "      <td>39.102660</td>\n",
              "      <td>-84.524680</td>\n",
              "      <td>39.102090</td>\n",
              "      <td>-84.523960</td>\n",
              "      <td>0.055</td>\n",
              "      <td>At I-71/US-50/Exit 1 - Accident.</td>\n",
              "      <td>...</td>\n",
              "      <td>False</td>\n",
              "      <td>False</td>\n",
              "      <td>False</td>\n",
              "      <td>False</td>\n",
              "      <td>False</td>\n",
              "      <td>False</td>\n",
              "      <td>Night</td>\n",
              "      <td>Night</td>\n",
              "      <td>Night</td>\n",
              "      <td>Day</td>\n",
              "    </tr>\n",
              "    <tr>\n",
              "      <th>3</th>\n",
              "      <td>A-4</td>\n",
              "      <td>2</td>\n",
              "      <td>2016-02-08 06:51:45</td>\n",
              "      <td>2016-02-08 12:51:45</td>\n",
              "      <td>41.062130</td>\n",
              "      <td>-81.537840</td>\n",
              "      <td>41.062170</td>\n",
              "      <td>-81.535470</td>\n",
              "      <td>0.123</td>\n",
              "      <td>At Dart Ave/Exit 21 - Accident.</td>\n",
              "      <td>...</td>\n",
              "      <td>False</td>\n",
              "      <td>False</td>\n",
              "      <td>False</td>\n",
              "      <td>False</td>\n",
              "      <td>False</td>\n",
              "      <td>False</td>\n",
              "      <td>Night</td>\n",
              "      <td>Night</td>\n",
              "      <td>Day</td>\n",
              "      <td>Day</td>\n",
              "    </tr>\n",
              "    <tr>\n",
              "      <th>4</th>\n",
              "      <td>A-5</td>\n",
              "      <td>3</td>\n",
              "      <td>2016-02-08 07:53:43</td>\n",
              "      <td>2016-02-08 13:53:43</td>\n",
              "      <td>39.172393</td>\n",
              "      <td>-84.492792</td>\n",
              "      <td>39.170476</td>\n",
              "      <td>-84.501798</td>\n",
              "      <td>0.500</td>\n",
              "      <td>At Mitchell Ave/Exit 6 - Accident.</td>\n",
              "      <td>...</td>\n",
              "      <td>False</td>\n",
              "      <td>False</td>\n",
              "      <td>False</td>\n",
              "      <td>False</td>\n",
              "      <td>False</td>\n",
              "      <td>False</td>\n",
              "      <td>Day</td>\n",
              "      <td>Day</td>\n",
              "      <td>Day</td>\n",
              "      <td>Day</td>\n",
              "    </tr>\n",
              "    <tr>\n",
              "      <th>...</th>\n",
              "      <td>...</td>\n",
              "      <td>...</td>\n",
              "      <td>...</td>\n",
              "      <td>...</td>\n",
              "      <td>...</td>\n",
              "      <td>...</td>\n",
              "      <td>...</td>\n",
              "      <td>...</td>\n",
              "      <td>...</td>\n",
              "      <td>...</td>\n",
              "      <td>...</td>\n",
              "      <td>...</td>\n",
              "      <td>...</td>\n",
              "      <td>...</td>\n",
              "      <td>...</td>\n",
              "      <td>...</td>\n",
              "      <td>...</td>\n",
              "      <td>...</td>\n",
              "      <td>...</td>\n",
              "      <td>...</td>\n",
              "      <td>...</td>\n",
              "    </tr>\n",
              "    <tr>\n",
              "      <th>2845337</th>\n",
              "      <td>A-2845338</td>\n",
              "      <td>2</td>\n",
              "      <td>2019-08-23 18:03:25</td>\n",
              "      <td>2019-08-23 18:32:01</td>\n",
              "      <td>34.002480</td>\n",
              "      <td>-117.379360</td>\n",
              "      <td>33.998880</td>\n",
              "      <td>-117.370940</td>\n",
              "      <td>0.543</td>\n",
              "      <td>At Market St - Accident.</td>\n",
              "      <td>...</td>\n",
              "      <td>False</td>\n",
              "      <td>False</td>\n",
              "      <td>False</td>\n",
              "      <td>False</td>\n",
              "      <td>False</td>\n",
              "      <td>False</td>\n",
              "      <td>Day</td>\n",
              "      <td>Day</td>\n",
              "      <td>Day</td>\n",
              "      <td>Day</td>\n",
              "    </tr>\n",
              "    <tr>\n",
              "      <th>2845338</th>\n",
              "      <td>A-2845339</td>\n",
              "      <td>2</td>\n",
              "      <td>2019-08-23 19:11:30</td>\n",
              "      <td>2019-08-23 19:38:23</td>\n",
              "      <td>32.766960</td>\n",
              "      <td>-117.148060</td>\n",
              "      <td>32.765550</td>\n",
              "      <td>-117.153630</td>\n",
              "      <td>0.338</td>\n",
              "      <td>At Camino Del Rio/Mission Center Rd - Accident.</td>\n",
              "      <td>...</td>\n",
              "      <td>False</td>\n",
              "      <td>False</td>\n",
              "      <td>False</td>\n",
              "      <td>False</td>\n",
              "      <td>False</td>\n",
              "      <td>False</td>\n",
              "      <td>Day</td>\n",
              "      <td>Day</td>\n",
              "      <td>Day</td>\n",
              "      <td>Day</td>\n",
              "    </tr>\n",
              "    <tr>\n",
              "      <th>2845339</th>\n",
              "      <td>A-2845340</td>\n",
              "      <td>2</td>\n",
              "      <td>2019-08-23 19:00:21</td>\n",
              "      <td>2019-08-23 19:28:49</td>\n",
              "      <td>33.775450</td>\n",
              "      <td>-117.847790</td>\n",
              "      <td>33.777400</td>\n",
              "      <td>-117.857270</td>\n",
              "      <td>0.561</td>\n",
              "      <td>At Glassell St/Grand Ave - Accident. in the ri...</td>\n",
              "      <td>...</td>\n",
              "      <td>False</td>\n",
              "      <td>False</td>\n",
              "      <td>False</td>\n",
              "      <td>False</td>\n",
              "      <td>False</td>\n",
              "      <td>False</td>\n",
              "      <td>Day</td>\n",
              "      <td>Day</td>\n",
              "      <td>Day</td>\n",
              "      <td>Day</td>\n",
              "    </tr>\n",
              "    <tr>\n",
              "      <th>2845340</th>\n",
              "      <td>A-2845341</td>\n",
              "      <td>2</td>\n",
              "      <td>2019-08-23 19:00:21</td>\n",
              "      <td>2019-08-23 19:29:42</td>\n",
              "      <td>33.992460</td>\n",
              "      <td>-118.403020</td>\n",
              "      <td>33.983110</td>\n",
              "      <td>-118.395650</td>\n",
              "      <td>0.772</td>\n",
              "      <td>At CA-90/Marina Fwy/Jefferson Blvd - Accident.</td>\n",
              "      <td>...</td>\n",
              "      <td>False</td>\n",
              "      <td>False</td>\n",
              "      <td>False</td>\n",
              "      <td>False</td>\n",
              "      <td>False</td>\n",
              "      <td>False</td>\n",
              "      <td>Day</td>\n",
              "      <td>Day</td>\n",
              "      <td>Day</td>\n",
              "      <td>Day</td>\n",
              "    </tr>\n",
              "    <tr>\n",
              "      <th>2845341</th>\n",
              "      <td>A-2845342</td>\n",
              "      <td>2</td>\n",
              "      <td>2019-08-23 18:52:06</td>\n",
              "      <td>2019-08-23 19:21:31</td>\n",
              "      <td>34.133930</td>\n",
              "      <td>-117.230920</td>\n",
              "      <td>34.137360</td>\n",
              "      <td>-117.239340</td>\n",
              "      <td>0.537</td>\n",
              "      <td>At Highland Ave/Arden Ave - Accident.</td>\n",
              "      <td>...</td>\n",
              "      <td>False</td>\n",
              "      <td>False</td>\n",
              "      <td>False</td>\n",
              "      <td>False</td>\n",
              "      <td>False</td>\n",
              "      <td>False</td>\n",
              "      <td>Day</td>\n",
              "      <td>Day</td>\n",
              "      <td>Day</td>\n",
              "      <td>Day</td>\n",
              "    </tr>\n",
              "  </tbody>\n",
              "</table>\n",
              "<p>2845342 rows × 47 columns</p>\n",
              "</div>\n",
              "      <button class=\"colab-df-convert\" onclick=\"convertToInteractive('df-f742ea1b-81d9-46d0-9e13-209594cf809e')\"\n",
              "              title=\"Convert this dataframe to an interactive table.\"\n",
              "              style=\"display:none;\">\n",
              "        \n",
              "  <svg xmlns=\"http://www.w3.org/2000/svg\" height=\"24px\"viewBox=\"0 0 24 24\"\n",
              "       width=\"24px\">\n",
              "    <path d=\"M0 0h24v24H0V0z\" fill=\"none\"/>\n",
              "    <path d=\"M18.56 5.44l.94 2.06.94-2.06 2.06-.94-2.06-.94-.94-2.06-.94 2.06-2.06.94zm-11 1L8.5 8.5l.94-2.06 2.06-.94-2.06-.94L8.5 2.5l-.94 2.06-2.06.94zm10 10l.94 2.06.94-2.06 2.06-.94-2.06-.94-.94-2.06-.94 2.06-2.06.94z\"/><path d=\"M17.41 7.96l-1.37-1.37c-.4-.4-.92-.59-1.43-.59-.52 0-1.04.2-1.43.59L10.3 9.45l-7.72 7.72c-.78.78-.78 2.05 0 2.83L4 21.41c.39.39.9.59 1.41.59.51 0 1.02-.2 1.41-.59l7.78-7.78 2.81-2.81c.8-.78.8-2.07 0-2.86zM5.41 20L4 18.59l7.72-7.72 1.47 1.35L5.41 20z\"/>\n",
              "  </svg>\n",
              "      </button>\n",
              "      \n",
              "  <style>\n",
              "    .colab-df-container {\n",
              "      display:flex;\n",
              "      flex-wrap:wrap;\n",
              "      gap: 12px;\n",
              "    }\n",
              "\n",
              "    .colab-df-convert {\n",
              "      background-color: #E8F0FE;\n",
              "      border: none;\n",
              "      border-radius: 50%;\n",
              "      cursor: pointer;\n",
              "      display: none;\n",
              "      fill: #1967D2;\n",
              "      height: 32px;\n",
              "      padding: 0 0 0 0;\n",
              "      width: 32px;\n",
              "    }\n",
              "\n",
              "    .colab-df-convert:hover {\n",
              "      background-color: #E2EBFA;\n",
              "      box-shadow: 0px 1px 2px rgba(60, 64, 67, 0.3), 0px 1px 3px 1px rgba(60, 64, 67, 0.15);\n",
              "      fill: #174EA6;\n",
              "    }\n",
              "\n",
              "    [theme=dark] .colab-df-convert {\n",
              "      background-color: #3B4455;\n",
              "      fill: #D2E3FC;\n",
              "    }\n",
              "\n",
              "    [theme=dark] .colab-df-convert:hover {\n",
              "      background-color: #434B5C;\n",
              "      box-shadow: 0px 1px 3px 1px rgba(0, 0, 0, 0.15);\n",
              "      filter: drop-shadow(0px 1px 2px rgba(0, 0, 0, 0.3));\n",
              "      fill: #FFFFFF;\n",
              "    }\n",
              "  </style>\n",
              "\n",
              "      <script>\n",
              "        const buttonEl =\n",
              "          document.querySelector('#df-f742ea1b-81d9-46d0-9e13-209594cf809e button.colab-df-convert');\n",
              "        buttonEl.style.display =\n",
              "          google.colab.kernel.accessAllowed ? 'block' : 'none';\n",
              "\n",
              "        async function convertToInteractive(key) {\n",
              "          const element = document.querySelector('#df-f742ea1b-81d9-46d0-9e13-209594cf809e');\n",
              "          const dataTable =\n",
              "            await google.colab.kernel.invokeFunction('convertToInteractive',\n",
              "                                                     [key], {});\n",
              "          if (!dataTable) return;\n",
              "\n",
              "          const docLinkHtml = 'Like what you see? Visit the ' +\n",
              "            '<a target=\"_blank\" href=https://colab.research.google.com/notebooks/data_table.ipynb>data table notebook</a>'\n",
              "            + ' to learn more about interactive tables.';\n",
              "          element.innerHTML = '';\n",
              "          dataTable['output_type'] = 'display_data';\n",
              "          await google.colab.output.renderOutput(dataTable, element);\n",
              "          const docLink = document.createElement('div');\n",
              "          docLink.innerHTML = docLinkHtml;\n",
              "          element.appendChild(docLink);\n",
              "        }\n",
              "      </script>\n",
              "    </div>\n",
              "  </div>\n",
              "  "
            ]
          },
          "metadata": {},
          "execution_count": 11
        }
      ]
    },
    {
      "cell_type": "code",
      "source": [
        "df.info()"
      ],
      "metadata": {
        "colab": {
          "base_uri": "https://localhost:8080/"
        },
        "id": "RECEyG_fZbos",
        "outputId": "0e2c3c31-2357-4d2a-c2b7-1df662d28a2f"
      },
      "execution_count": 14,
      "outputs": [
        {
          "output_type": "stream",
          "name": "stdout",
          "text": [
            "<class 'pandas.core.frame.DataFrame'>\n",
            "RangeIndex: 2845342 entries, 0 to 2845341\n",
            "Data columns (total 47 columns):\n",
            " #   Column                 Dtype  \n",
            "---  ------                 -----  \n",
            " 0   ID                     object \n",
            " 1   Severity               int64  \n",
            " 2   Start_Time             object \n",
            " 3   End_Time               object \n",
            " 4   Start_Lat              float64\n",
            " 5   Start_Lng              float64\n",
            " 6   End_Lat                float64\n",
            " 7   End_Lng                float64\n",
            " 8   Distance(mi)           float64\n",
            " 9   Description            object \n",
            " 10  Number                 float64\n",
            " 11  Street                 object \n",
            " 12  Side                   object \n",
            " 13  City                   object \n",
            " 14  County                 object \n",
            " 15  State                  object \n",
            " 16  Zipcode                object \n",
            " 17  Country                object \n",
            " 18  Timezone               object \n",
            " 19  Airport_Code           object \n",
            " 20  Weather_Timestamp      object \n",
            " 21  Temperature(F)         float64\n",
            " 22  Wind_Chill(F)          float64\n",
            " 23  Humidity(%)            float64\n",
            " 24  Pressure(in)           float64\n",
            " 25  Visibility(mi)         float64\n",
            " 26  Wind_Direction         object \n",
            " 27  Wind_Speed(mph)        float64\n",
            " 28  Precipitation(in)      float64\n",
            " 29  Weather_Condition      object \n",
            " 30  Amenity                bool   \n",
            " 31  Bump                   bool   \n",
            " 32  Crossing               bool   \n",
            " 33  Give_Way               bool   \n",
            " 34  Junction               bool   \n",
            " 35  No_Exit                bool   \n",
            " 36  Railway                bool   \n",
            " 37  Roundabout             bool   \n",
            " 38  Station                bool   \n",
            " 39  Stop                   bool   \n",
            " 40  Traffic_Calming        bool   \n",
            " 41  Traffic_Signal         bool   \n",
            " 42  Turning_Loop           bool   \n",
            " 43  Sunrise_Sunset         object \n",
            " 44  Civil_Twilight         object \n",
            " 45  Nautical_Twilight      object \n",
            " 46  Astronomical_Twilight  object \n",
            "dtypes: bool(13), float64(13), int64(1), object(20)\n",
            "memory usage: 773.4+ MB\n"
          ]
        }
      ]
    },
    {
      "cell_type": "code",
      "source": [
        "df.describe()"
      ],
      "metadata": {
        "colab": {
          "base_uri": "https://localhost:8080/",
          "height": 364
        },
        "id": "3hEjKYI-bzUc",
        "outputId": "2dcdfda2-2428-4b4e-a05e-6067bd945625"
      },
      "execution_count": 15,
      "outputs": [
        {
          "output_type": "execute_result",
          "data": {
            "text/plain": [
              "           Severity     Start_Lat     Start_Lng       End_Lat       End_Lng  \\\n",
              "count  2.845342e+06  2.845342e+06  2.845342e+06  2.845342e+06  2.845342e+06   \n",
              "mean   2.137572e+00  3.624520e+01 -9.711463e+01  3.624532e+01 -9.711439e+01   \n",
              "std    4.787216e-01  5.363797e+00  1.831782e+01  5.363873e+00  1.831763e+01   \n",
              "min    1.000000e+00  2.456603e+01 -1.245481e+02  2.456601e+01 -1.245457e+02   \n",
              "25%    2.000000e+00  3.344517e+01 -1.180331e+02  3.344628e+01 -1.180333e+02   \n",
              "50%    2.000000e+00  3.609861e+01 -9.241808e+01  3.609799e+01 -9.241772e+01   \n",
              "75%    2.000000e+00  4.016024e+01 -8.037243e+01  4.016105e+01 -8.037338e+01   \n",
              "max    4.000000e+00  4.900058e+01 -6.711317e+01  4.907500e+01 -6.710924e+01   \n",
              "\n",
              "       Distance(mi)        Number  Temperature(F)  Wind_Chill(F)  \\\n",
              "count  2.845342e+06  1.101431e+06    2.776068e+06   2.375699e+06   \n",
              "mean   7.026779e-01  8.089408e+03    6.179356e+01   5.965823e+01   \n",
              "std    1.560361e+00  1.836009e+04    1.862263e+01   2.116097e+01   \n",
              "min    0.000000e+00  0.000000e+00   -8.900000e+01  -8.900000e+01   \n",
              "25%    5.200000e-02  1.270000e+03    5.000000e+01   4.600000e+01   \n",
              "50%    2.440000e-01  4.007000e+03    6.400000e+01   6.300000e+01   \n",
              "75%    7.640000e-01  9.567000e+03    7.600000e+01   7.600000e+01   \n",
              "max    1.551860e+02  9.999997e+06    1.960000e+02   1.960000e+02   \n",
              "\n",
              "        Humidity(%)  Pressure(in)  Visibility(mi)  Wind_Speed(mph)  \\\n",
              "count  2.772250e+06  2.786142e+06    2.774796e+06     2.687398e+06   \n",
              "mean   6.436545e+01  2.947234e+01    9.099391e+00     7.395044e+00   \n",
              "std    2.287457e+01  1.045286e+00    2.717546e+00     5.527454e+00   \n",
              "min    1.000000e+00  0.000000e+00    0.000000e+00     0.000000e+00   \n",
              "25%    4.800000e+01  2.931000e+01    1.000000e+01     3.500000e+00   \n",
              "50%    6.700000e+01  2.982000e+01    1.000000e+01     7.000000e+00   \n",
              "75%    8.300000e+01  3.001000e+01    1.000000e+01     1.000000e+01   \n",
              "max    1.000000e+02  5.890000e+01    1.400000e+02     1.087000e+03   \n",
              "\n",
              "       Precipitation(in)  \n",
              "count       2.295884e+06  \n",
              "mean        7.016940e-03  \n",
              "std         9.348831e-02  \n",
              "min         0.000000e+00  \n",
              "25%         0.000000e+00  \n",
              "50%         0.000000e+00  \n",
              "75%         0.000000e+00  \n",
              "max         2.400000e+01  "
            ],
            "text/html": [
              "\n",
              "  <div id=\"df-7dfd4394-4a30-4e5b-8f2f-606f53ca7267\">\n",
              "    <div class=\"colab-df-container\">\n",
              "      <div>\n",
              "<style scoped>\n",
              "    .dataframe tbody tr th:only-of-type {\n",
              "        vertical-align: middle;\n",
              "    }\n",
              "\n",
              "    .dataframe tbody tr th {\n",
              "        vertical-align: top;\n",
              "    }\n",
              "\n",
              "    .dataframe thead th {\n",
              "        text-align: right;\n",
              "    }\n",
              "</style>\n",
              "<table border=\"1\" class=\"dataframe\">\n",
              "  <thead>\n",
              "    <tr style=\"text-align: right;\">\n",
              "      <th></th>\n",
              "      <th>Severity</th>\n",
              "      <th>Start_Lat</th>\n",
              "      <th>Start_Lng</th>\n",
              "      <th>End_Lat</th>\n",
              "      <th>End_Lng</th>\n",
              "      <th>Distance(mi)</th>\n",
              "      <th>Number</th>\n",
              "      <th>Temperature(F)</th>\n",
              "      <th>Wind_Chill(F)</th>\n",
              "      <th>Humidity(%)</th>\n",
              "      <th>Pressure(in)</th>\n",
              "      <th>Visibility(mi)</th>\n",
              "      <th>Wind_Speed(mph)</th>\n",
              "      <th>Precipitation(in)</th>\n",
              "    </tr>\n",
              "  </thead>\n",
              "  <tbody>\n",
              "    <tr>\n",
              "      <th>count</th>\n",
              "      <td>2.845342e+06</td>\n",
              "      <td>2.845342e+06</td>\n",
              "      <td>2.845342e+06</td>\n",
              "      <td>2.845342e+06</td>\n",
              "      <td>2.845342e+06</td>\n",
              "      <td>2.845342e+06</td>\n",
              "      <td>1.101431e+06</td>\n",
              "      <td>2.776068e+06</td>\n",
              "      <td>2.375699e+06</td>\n",
              "      <td>2.772250e+06</td>\n",
              "      <td>2.786142e+06</td>\n",
              "      <td>2.774796e+06</td>\n",
              "      <td>2.687398e+06</td>\n",
              "      <td>2.295884e+06</td>\n",
              "    </tr>\n",
              "    <tr>\n",
              "      <th>mean</th>\n",
              "      <td>2.137572e+00</td>\n",
              "      <td>3.624520e+01</td>\n",
              "      <td>-9.711463e+01</td>\n",
              "      <td>3.624532e+01</td>\n",
              "      <td>-9.711439e+01</td>\n",
              "      <td>7.026779e-01</td>\n",
              "      <td>8.089408e+03</td>\n",
              "      <td>6.179356e+01</td>\n",
              "      <td>5.965823e+01</td>\n",
              "      <td>6.436545e+01</td>\n",
              "      <td>2.947234e+01</td>\n",
              "      <td>9.099391e+00</td>\n",
              "      <td>7.395044e+00</td>\n",
              "      <td>7.016940e-03</td>\n",
              "    </tr>\n",
              "    <tr>\n",
              "      <th>std</th>\n",
              "      <td>4.787216e-01</td>\n",
              "      <td>5.363797e+00</td>\n",
              "      <td>1.831782e+01</td>\n",
              "      <td>5.363873e+00</td>\n",
              "      <td>1.831763e+01</td>\n",
              "      <td>1.560361e+00</td>\n",
              "      <td>1.836009e+04</td>\n",
              "      <td>1.862263e+01</td>\n",
              "      <td>2.116097e+01</td>\n",
              "      <td>2.287457e+01</td>\n",
              "      <td>1.045286e+00</td>\n",
              "      <td>2.717546e+00</td>\n",
              "      <td>5.527454e+00</td>\n",
              "      <td>9.348831e-02</td>\n",
              "    </tr>\n",
              "    <tr>\n",
              "      <th>min</th>\n",
              "      <td>1.000000e+00</td>\n",
              "      <td>2.456603e+01</td>\n",
              "      <td>-1.245481e+02</td>\n",
              "      <td>2.456601e+01</td>\n",
              "      <td>-1.245457e+02</td>\n",
              "      <td>0.000000e+00</td>\n",
              "      <td>0.000000e+00</td>\n",
              "      <td>-8.900000e+01</td>\n",
              "      <td>-8.900000e+01</td>\n",
              "      <td>1.000000e+00</td>\n",
              "      <td>0.000000e+00</td>\n",
              "      <td>0.000000e+00</td>\n",
              "      <td>0.000000e+00</td>\n",
              "      <td>0.000000e+00</td>\n",
              "    </tr>\n",
              "    <tr>\n",
              "      <th>25%</th>\n",
              "      <td>2.000000e+00</td>\n",
              "      <td>3.344517e+01</td>\n",
              "      <td>-1.180331e+02</td>\n",
              "      <td>3.344628e+01</td>\n",
              "      <td>-1.180333e+02</td>\n",
              "      <td>5.200000e-02</td>\n",
              "      <td>1.270000e+03</td>\n",
              "      <td>5.000000e+01</td>\n",
              "      <td>4.600000e+01</td>\n",
              "      <td>4.800000e+01</td>\n",
              "      <td>2.931000e+01</td>\n",
              "      <td>1.000000e+01</td>\n",
              "      <td>3.500000e+00</td>\n",
              "      <td>0.000000e+00</td>\n",
              "    </tr>\n",
              "    <tr>\n",
              "      <th>50%</th>\n",
              "      <td>2.000000e+00</td>\n",
              "      <td>3.609861e+01</td>\n",
              "      <td>-9.241808e+01</td>\n",
              "      <td>3.609799e+01</td>\n",
              "      <td>-9.241772e+01</td>\n",
              "      <td>2.440000e-01</td>\n",
              "      <td>4.007000e+03</td>\n",
              "      <td>6.400000e+01</td>\n",
              "      <td>6.300000e+01</td>\n",
              "      <td>6.700000e+01</td>\n",
              "      <td>2.982000e+01</td>\n",
              "      <td>1.000000e+01</td>\n",
              "      <td>7.000000e+00</td>\n",
              "      <td>0.000000e+00</td>\n",
              "    </tr>\n",
              "    <tr>\n",
              "      <th>75%</th>\n",
              "      <td>2.000000e+00</td>\n",
              "      <td>4.016024e+01</td>\n",
              "      <td>-8.037243e+01</td>\n",
              "      <td>4.016105e+01</td>\n",
              "      <td>-8.037338e+01</td>\n",
              "      <td>7.640000e-01</td>\n",
              "      <td>9.567000e+03</td>\n",
              "      <td>7.600000e+01</td>\n",
              "      <td>7.600000e+01</td>\n",
              "      <td>8.300000e+01</td>\n",
              "      <td>3.001000e+01</td>\n",
              "      <td>1.000000e+01</td>\n",
              "      <td>1.000000e+01</td>\n",
              "      <td>0.000000e+00</td>\n",
              "    </tr>\n",
              "    <tr>\n",
              "      <th>max</th>\n",
              "      <td>4.000000e+00</td>\n",
              "      <td>4.900058e+01</td>\n",
              "      <td>-6.711317e+01</td>\n",
              "      <td>4.907500e+01</td>\n",
              "      <td>-6.710924e+01</td>\n",
              "      <td>1.551860e+02</td>\n",
              "      <td>9.999997e+06</td>\n",
              "      <td>1.960000e+02</td>\n",
              "      <td>1.960000e+02</td>\n",
              "      <td>1.000000e+02</td>\n",
              "      <td>5.890000e+01</td>\n",
              "      <td>1.400000e+02</td>\n",
              "      <td>1.087000e+03</td>\n",
              "      <td>2.400000e+01</td>\n",
              "    </tr>\n",
              "  </tbody>\n",
              "</table>\n",
              "</div>\n",
              "      <button class=\"colab-df-convert\" onclick=\"convertToInteractive('df-7dfd4394-4a30-4e5b-8f2f-606f53ca7267')\"\n",
              "              title=\"Convert this dataframe to an interactive table.\"\n",
              "              style=\"display:none;\">\n",
              "        \n",
              "  <svg xmlns=\"http://www.w3.org/2000/svg\" height=\"24px\"viewBox=\"0 0 24 24\"\n",
              "       width=\"24px\">\n",
              "    <path d=\"M0 0h24v24H0V0z\" fill=\"none\"/>\n",
              "    <path d=\"M18.56 5.44l.94 2.06.94-2.06 2.06-.94-2.06-.94-.94-2.06-.94 2.06-2.06.94zm-11 1L8.5 8.5l.94-2.06 2.06-.94-2.06-.94L8.5 2.5l-.94 2.06-2.06.94zm10 10l.94 2.06.94-2.06 2.06-.94-2.06-.94-.94-2.06-.94 2.06-2.06.94z\"/><path d=\"M17.41 7.96l-1.37-1.37c-.4-.4-.92-.59-1.43-.59-.52 0-1.04.2-1.43.59L10.3 9.45l-7.72 7.72c-.78.78-.78 2.05 0 2.83L4 21.41c.39.39.9.59 1.41.59.51 0 1.02-.2 1.41-.59l7.78-7.78 2.81-2.81c.8-.78.8-2.07 0-2.86zM5.41 20L4 18.59l7.72-7.72 1.47 1.35L5.41 20z\"/>\n",
              "  </svg>\n",
              "      </button>\n",
              "      \n",
              "  <style>\n",
              "    .colab-df-container {\n",
              "      display:flex;\n",
              "      flex-wrap:wrap;\n",
              "      gap: 12px;\n",
              "    }\n",
              "\n",
              "    .colab-df-convert {\n",
              "      background-color: #E8F0FE;\n",
              "      border: none;\n",
              "      border-radius: 50%;\n",
              "      cursor: pointer;\n",
              "      display: none;\n",
              "      fill: #1967D2;\n",
              "      height: 32px;\n",
              "      padding: 0 0 0 0;\n",
              "      width: 32px;\n",
              "    }\n",
              "\n",
              "    .colab-df-convert:hover {\n",
              "      background-color: #E2EBFA;\n",
              "      box-shadow: 0px 1px 2px rgba(60, 64, 67, 0.3), 0px 1px 3px 1px rgba(60, 64, 67, 0.15);\n",
              "      fill: #174EA6;\n",
              "    }\n",
              "\n",
              "    [theme=dark] .colab-df-convert {\n",
              "      background-color: #3B4455;\n",
              "      fill: #D2E3FC;\n",
              "    }\n",
              "\n",
              "    [theme=dark] .colab-df-convert:hover {\n",
              "      background-color: #434B5C;\n",
              "      box-shadow: 0px 1px 3px 1px rgba(0, 0, 0, 0.15);\n",
              "      filter: drop-shadow(0px 1px 2px rgba(0, 0, 0, 0.3));\n",
              "      fill: #FFFFFF;\n",
              "    }\n",
              "  </style>\n",
              "\n",
              "      <script>\n",
              "        const buttonEl =\n",
              "          document.querySelector('#df-7dfd4394-4a30-4e5b-8f2f-606f53ca7267 button.colab-df-convert');\n",
              "        buttonEl.style.display =\n",
              "          google.colab.kernel.accessAllowed ? 'block' : 'none';\n",
              "\n",
              "        async function convertToInteractive(key) {\n",
              "          const element = document.querySelector('#df-7dfd4394-4a30-4e5b-8f2f-606f53ca7267');\n",
              "          const dataTable =\n",
              "            await google.colab.kernel.invokeFunction('convertToInteractive',\n",
              "                                                     [key], {});\n",
              "          if (!dataTable) return;\n",
              "\n",
              "          const docLinkHtml = 'Like what you see? Visit the ' +\n",
              "            '<a target=\"_blank\" href=https://colab.research.google.com/notebooks/data_table.ipynb>data table notebook</a>'\n",
              "            + ' to learn more about interactive tables.';\n",
              "          element.innerHTML = '';\n",
              "          dataTable['output_type'] = 'display_data';\n",
              "          await google.colab.output.renderOutput(dataTable, element);\n",
              "          const docLink = document.createElement('div');\n",
              "          docLink.innerHTML = docLinkHtml;\n",
              "          element.appendChild(docLink);\n",
              "        }\n",
              "      </script>\n",
              "    </div>\n",
              "  </div>\n",
              "  "
            ]
          },
          "metadata": {},
          "execution_count": 15
        }
      ]
    },
    {
      "cell_type": "code",
      "source": [
        "numerics = ['int16', 'int32', 'int64', 'float16', 'float32', 'float64']\n",
        "\n",
        "numeric_df = df.select_dtypes(include=numerics)\n",
        "len(numeric_df.columns)"
      ],
      "metadata": {
        "colab": {
          "base_uri": "https://localhost:8080/"
        },
        "id": "U_5vxMDFbzib",
        "outputId": "8d9c2334-3c0e-4979-b31d-7fbf589cf2db"
      },
      "execution_count": 16,
      "outputs": [
        {
          "output_type": "execute_result",
          "data": {
            "text/plain": [
              "14"
            ]
          },
          "metadata": {},
          "execution_count": 16
        }
      ]
    },
    {
      "cell_type": "markdown",
      "source": [
        "Percentage of missing values per column"
      ],
      "metadata": {
        "id": "21n_Roowd2fT"
      }
    },
    {
      "cell_type": "code",
      "source": [
        "missing_percentages = df.isna().sum().sort_values(ascending=False) / len(df)\n",
        "missing_percentages"
      ],
      "metadata": {
        "colab": {
          "base_uri": "https://localhost:8080/"
        },
        "id": "Fo6mZ_yTbzlU",
        "outputId": "413253ca-fcb7-4d5f-e3c8-debe911d45a1"
      },
      "execution_count": 20,
      "outputs": [
        {
          "output_type": "execute_result",
          "data": {
            "text/plain": [
              "Number                   6.129003e-01\n",
              "Precipitation(in)        1.931079e-01\n",
              "Wind_Chill(F)            1.650568e-01\n",
              "Wind_Speed(mph)          5.550967e-02\n",
              "Wind_Direction           2.592834e-02\n",
              "Humidity(%)              2.568830e-02\n",
              "Weather_Condition        2.482514e-02\n",
              "Visibility(mi)           2.479350e-02\n",
              "Temperature(F)           2.434646e-02\n",
              "Pressure(in)             2.080593e-02\n",
              "Weather_Timestamp        1.783125e-02\n",
              "Airport_Code             3.356011e-03\n",
              "Timezone                 1.285961e-03\n",
              "Nautical_Twilight        1.007612e-03\n",
              "Civil_Twilight           1.007612e-03\n",
              "Sunrise_Sunset           1.007612e-03\n",
              "Astronomical_Twilight    1.007612e-03\n",
              "Zipcode                  4.635647e-04\n",
              "City                     4.814887e-05\n",
              "Street                   7.029032e-07\n",
              "Country                  0.000000e+00\n",
              "Junction                 0.000000e+00\n",
              "Start_Time               0.000000e+00\n",
              "End_Time                 0.000000e+00\n",
              "Start_Lat                0.000000e+00\n",
              "Turning_Loop             0.000000e+00\n",
              "Traffic_Signal           0.000000e+00\n",
              "Traffic_Calming          0.000000e+00\n",
              "Stop                     0.000000e+00\n",
              "Station                  0.000000e+00\n",
              "Roundabout               0.000000e+00\n",
              "Railway                  0.000000e+00\n",
              "No_Exit                  0.000000e+00\n",
              "Crossing                 0.000000e+00\n",
              "Give_Way                 0.000000e+00\n",
              "Bump                     0.000000e+00\n",
              "Amenity                  0.000000e+00\n",
              "Start_Lng                0.000000e+00\n",
              "End_Lat                  0.000000e+00\n",
              "End_Lng                  0.000000e+00\n",
              "Distance(mi)             0.000000e+00\n",
              "Description              0.000000e+00\n",
              "Severity                 0.000000e+00\n",
              "Side                     0.000000e+00\n",
              "County                   0.000000e+00\n",
              "State                    0.000000e+00\n",
              "ID                       0.000000e+00\n",
              "dtype: float64"
            ]
          },
          "metadata": {},
          "execution_count": 20
        }
      ]
    },
    {
      "cell_type": "code",
      "source": [
        "type(missing_percentages)"
      ],
      "metadata": {
        "colab": {
          "base_uri": "https://localhost:8080/"
        },
        "id": "_O8ITzgJbzqm",
        "outputId": "77b92b6a-02dc-4c1c-f32d-4343b982c7c7"
      },
      "execution_count": 21,
      "outputs": [
        {
          "output_type": "execute_result",
          "data": {
            "text/plain": [
              "pandas.core.series.Series"
            ]
          },
          "metadata": {},
          "execution_count": 21
        }
      ]
    },
    {
      "cell_type": "code",
      "source": [
        "missing_percentages[missing_percentages != 0].plot(kind='barh')"
      ],
      "metadata": {
        "colab": {
          "base_uri": "https://localhost:8080/",
          "height": 282
        },
        "id": "xg_pltEbbztG",
        "outputId": "f2ab2f7c-afc5-4533-e829-dde9489247b2"
      },
      "execution_count": 22,
      "outputs": [
        {
          "output_type": "execute_result",
          "data": {
            "text/plain": [
              "<matplotlib.axes._subplots.AxesSubplot at 0x7f4f7e8e80d0>"
            ]
          },
          "metadata": {},
          "execution_count": 22
        },
        {
          "output_type": "display_data",
          "data": {
            "text/plain": [
              "<Figure size 432x288 with 1 Axes>"
            ],
            "image/png": "[encoded data removed]"
          },
          "metadata": {
            "needs_background": "light"
          }
        }
      ]
    },
    {
      "cell_type": "markdown",
      "source": [
        "## Exploratory Analysis and Visualization\n",
        "\n",
        "Columns we'll analyze:\n",
        "\n",
        "1. City\n",
        "2. Start Time\n",
        "3. Start Lat, Start Lng\n",
        "4. Temperature\n",
        "5. Weather Condition"
      ],
      "metadata": {
        "id": "1K1YxBhKfRMG"
      }
    },
    {
      "cell_type": "code",
      "source": [
        "df.columns"
      ],
      "metadata": {
        "colab": {
          "base_uri": "https://localhost:8080/"
        },
        "id": "rXN-2fRRbzwk",
        "outputId": "bfe3b424-5daf-4872-8c49-b77da62a0b52"
      },
      "execution_count": 23,
      "outputs": [
        {
          "output_type": "execute_result",
          "data": {
            "text/plain": [
              "Index(['ID', 'Severity', 'Start_Time', 'End_Time', 'Start_Lat', 'Start_Lng',\n",
              "       'End_Lat', 'End_Lng', 'Distance(mi)', 'Description', 'Number', 'Street',\n",
              "       'Side', 'City', 'County', 'State', 'Zipcode', 'Country', 'Timezone',\n",
              "       'Airport_Code', 'Weather_Timestamp', 'Temperature(F)', 'Wind_Chill(F)',\n",
              "       'Humidity(%)', 'Pressure(in)', 'Visibility(mi)', 'Wind_Direction',\n",
              "       'Wind_Speed(mph)', 'Precipitation(in)', 'Weather_Condition', 'Amenity',\n",
              "       'Bump', 'Crossing', 'Give_Way', 'Junction', 'No_Exit', 'Railway',\n",
              "       'Roundabout', 'Station', 'Stop', 'Traffic_Calming', 'Traffic_Signal',\n",
              "       'Turning_Loop', 'Sunrise_Sunset', 'Civil_Twilight', 'Nautical_Twilight',\n",
              "       'Astronomical_Twilight'],\n",
              "      dtype='object')"
            ]
          },
          "metadata": {},
          "execution_count": 23
        }
      ]
    },
    {
      "cell_type": "markdown",
      "source": [
        "### City"
      ],
      "metadata": {
        "id": "5xr4tbeUnvgR"
      }
    },
    {
      "cell_type": "code",
      "source": [
        "cities = df.City.unique()\n",
        "len(cities)\n",
        "#cities[:100]"
      ],
      "metadata": {
        "colab": {
          "base_uri": "https://localhost:8080/"
        },
        "id": "Ig-t4WuCfiq4",
        "outputId": "71d3f0c8-c40e-447e-b8f2-1f49edf3a6b8"
      },
      "execution_count": 28,
      "outputs": [
        {
          "output_type": "execute_result",
          "data": {
            "text/plain": [
              "11682"
            ]
          },
          "metadata": {},
          "execution_count": 28
        }
      ]
    },
    {
      "cell_type": "code",
      "source": [
        "cities_by_accident = df.City.value_counts()\n",
        "cities_by_accident"
      ],
      "metadata": {
        "colab": {
          "base_uri": "https://localhost:8080/"
        },
        "id": "Hh0HGkVzfi4h",
        "outputId": "58c5a151-d5d6-4b93-fb6d-28e3b6728240"
      },
      "execution_count": 29,
      "outputs": [
        {
          "output_type": "execute_result",
          "data": {
            "text/plain": [
              "Miami                           106966\n",
              "Los Angeles                      68956\n",
              "Orlando                          54691\n",
              "Dallas                           41979\n",
              "Houston                          39448\n",
              "                                 ...  \n",
              "Ridgedale                            1\n",
              "Sekiu                                1\n",
              "Wooldridge                           1\n",
              "Bullock                              1\n",
              "American Fork-Pleasant Grove         1\n",
              "Name: City, Length: 11681, dtype: int64"
            ]
          },
          "metadata": {},
          "execution_count": 29
        }
      ]
    },
    {
      "cell_type": "code",
      "source": [
        "cities_by_accident[:20]"
      ],
      "metadata": {
        "colab": {
          "base_uri": "https://localhost:8080/"
        },
        "id": "9g6oWcE9hOnl",
        "outputId": "178f2458-3538-4585-d4bf-2a77e4f430f7"
      },
      "execution_count": 30,
      "outputs": [
        {
          "output_type": "execute_result",
          "data": {
            "text/plain": [
              "Miami           106966\n",
              "Los Angeles      68956\n",
              "Orlando          54691\n",
              "Dallas           41979\n",
              "Houston          39448\n",
              "Charlotte        33152\n",
              "Sacramento       32559\n",
              "San Diego        26627\n",
              "Raleigh          22840\n",
              "Minneapolis      22768\n",
              "Portland         20944\n",
              "Nashville        20267\n",
              "Austin           18301\n",
              "Baton Rouge      18182\n",
              "Phoenix          17143\n",
              "Saint Paul       16869\n",
              "New Orleans      16251\n",
              "Atlanta          15622\n",
              "Jacksonville     14967\n",
              "Richmond         14349\n",
              "Name: City, dtype: int64"
            ]
          },
          "metadata": {},
          "execution_count": 30
        }
      ]
    },
    {
      "cell_type": "code",
      "source": [
        "'NY' in df.State"
      ],
      "metadata": {
        "colab": {
          "base_uri": "https://localhost:8080/"
        },
        "id": "2PSXA6IppGSB",
        "outputId": "92d24d79-b059-46a2-b9d3-b3721c364635"
      },
      "execution_count": 55,
      "outputs": [
        {
          "output_type": "execute_result",
          "data": {
            "text/plain": [
              "False"
            ]
          },
          "metadata": {},
          "execution_count": 55
        }
      ]
    },
    {
      "cell_type": "code",
      "source": [
        "high_accident_cities = cities_by_accident[cities_by_accident >= 1000]\n",
        "low_accident_cities = cities_by_accident[cities_by_accident < 1000]"
      ],
      "metadata": {
        "id": "7o0whJXI5wwE"
      },
      "execution_count": 88,
      "outputs": []
    },
    {
      "cell_type": "code",
      "source": [
        "len(high_accident_cities) / len(cities)"
      ],
      "metadata": {
        "colab": {
          "base_uri": "https://localhost:8080/"
        },
        "id": "5TqYXP-45wRV",
        "outputId": "6e6b119b-0303-4442-ee4b-63d0698f0fad"
      },
      "execution_count": 89,
      "outputs": [
        {
          "output_type": "execute_result",
          "data": {
            "text/plain": [
              "0.04245848313644924"
            ]
          },
          "metadata": {},
          "execution_count": 89
        }
      ]
    },
    {
      "cell_type": "markdown",
      "source": [
        "Less than 4% of cities has more than 1000 yearly accidents"
      ],
      "metadata": {
        "id": "Tmchtz4r6EqC"
      }
    },
    {
      "cell_type": "code",
      "source": [
        "cities_by_accident[:20].plot(kind = 'barh')"
      ],
      "metadata": {
        "colab": {
          "base_uri": "https://localhost:8080/",
          "height": 282
        },
        "id": "XytnwifViTLT",
        "outputId": "3cfd9f7a-f561-404c-ee9b-831d21c81d5f"
      },
      "execution_count": 34,
      "outputs": [
        {
          "output_type": "execute_result",
          "data": {
            "text/plain": [
              "<matplotlib.axes._subplots.AxesSubplot at 0x7f4f43540310>"
            ]
          },
          "metadata": {},
          "execution_count": 34
        },
        {
          "output_type": "display_data",
          "data": {
            "text/plain": [
              "<Figure size 432x288 with 1 Axes>"
            ],
            "image/png": "[encoded data removed]"
          },
          "metadata": {
            "needs_background": "light"
          }
        }
      ]
    },
    {
      "cell_type": "code",
      "source": [
        "import seaborn as sns\n",
        "sns.set_style(\"darkgrid\")"
      ],
      "metadata": {
        "id": "dvsHiDh_iTHy"
      },
      "execution_count": 37,
      "outputs": []
    },
    {
      "cell_type": "code",
      "source": [
        "sns.histplot(cities_by_accident, log_scale=True)"
      ],
      "metadata": {
        "colab": {
          "base_uri": "https://localhost:8080/",
          "height": 300
        },
        "id": "cTgDDP2NiTEH",
        "outputId": "ec3577c4-3475-4218-e138-26841d569ec8"
      },
      "execution_count": 39,
      "outputs": [
        {
          "output_type": "execute_result",
          "data": {
            "text/plain": [
              "<matplotlib.axes._subplots.AxesSubplot at 0x7f4f24aebbd0>"
            ]
          },
          "metadata": {},
          "execution_count": 39
        },
        {
          "output_type": "display_data",
          "data": {
            "text/plain": [
              "<Figure size 432x288 with 1 Axes>"
            ],
            "image/png": "[encoded data removed]"
          },
          "metadata": {}
        }
      ]
    },
    {
      "cell_type": "code",
      "source": [
        "cities_by_accident[cities_by_accident == 1] "
      ],
      "metadata": {
        "colab": {
          "base_uri": "https://localhost:8080/"
        },
        "id": "tbNoY5-IlnT_",
        "outputId": "090932ae-074b-4b59-90ac-814b15158f77"
      },
      "execution_count": 51,
      "outputs": [
        {
          "output_type": "execute_result",
          "data": {
            "text/plain": [
              "Carney                          1\n",
              "Waverly Hall                    1\n",
              "Center Sandwich                 1\n",
              "Glen Flora                      1\n",
              "Sulphur Springs                 1\n",
              "                               ..\n",
              "Ridgedale                       1\n",
              "Sekiu                           1\n",
              "Wooldridge                      1\n",
              "Bullock                         1\n",
              "American Fork-Pleasant Grove    1\n",
              "Name: City, Length: 1110, dtype: int64"
            ]
          },
          "metadata": {},
          "execution_count": 51
        }
      ]
    },
    {
      "cell_type": "markdown",
      "source": [
        "### Start Time"
      ],
      "metadata": {
        "id": "cApIvrIvnmN7"
      }
    },
    {
      "cell_type": "code",
      "source": [
        "df.Start_Time"
      ],
      "metadata": {
        "colab": {
          "base_uri": "https://localhost:8080/"
        },
        "id": "nH5xJtXsnbxn",
        "outputId": "e5ae3b22-bccf-485f-92b4-ed64690885d6"
      },
      "execution_count": 52,
      "outputs": [
        {
          "output_type": "execute_result",
          "data": {
            "text/plain": [
              "0          2016-02-08 00:37:08\n",
              "1          2016-02-08 05:56:20\n",
              "2          2016-02-08 06:15:39\n",
              "3          2016-02-08 06:51:45\n",
              "4          2016-02-08 07:53:43\n",
              "                  ...         \n",
              "2845337    2019-08-23 18:03:25\n",
              "2845338    2019-08-23 19:11:30\n",
              "2845339    2019-08-23 19:00:21\n",
              "2845340    2019-08-23 19:00:21\n",
              "2845341    2019-08-23 18:52:06\n",
              "Name: Start_Time, Length: 2845342, dtype: object"
            ]
          },
          "metadata": {},
          "execution_count": 52
        }
      ]
    },
    {
      "cell_type": "code",
      "source": [
        "df.Start_Time = pd.to_datetime(df.Start_Time)"
      ],
      "metadata": {
        "id": "56aEDzSanbuN"
      },
      "execution_count": 53,
      "outputs": []
    },
    {
      "cell_type": "code",
      "source": [
        "df.Start_Time[0]"
      ],
      "metadata": {
        "colab": {
          "base_uri": "https://localhost:8080/"
        },
        "id": "QYhv1zvSnbrZ",
        "outputId": "8b0d1ef4-1239-4d7c-b417-8c047ec06758"
      },
      "execution_count": 54,
      "outputs": [
        {
          "output_type": "execute_result",
          "data": {
            "text/plain": [
              "Timestamp('2016-02-08 00:37:08')"
            ]
          },
          "metadata": {},
          "execution_count": 54
        }
      ]
    },
    {
      "cell_type": "code",
      "source": [
        "sns.distplot(df.Start_Time.dt.hour, bins=24, kde=False, norm_hist=True)"
      ],
      "metadata": {
        "colab": {
          "base_uri": "https://localhost:8080/",
          "height": 352
        },
        "id": "Oh6VWjosnbog",
        "outputId": "9425c5c5-c05e-4ef2-f158-5b1f415e0823"
      },
      "execution_count": 58,
      "outputs": [
        {
          "output_type": "stream",
          "name": "stderr",
          "text": [
            "/usr/local/lib/python3.7/dist-packages/seaborn/distributions.py:2619: FutureWarning: `distplot` is a deprecated function and will be removed in a future version. Please adapt your code to use either `displot` (a figure-level function with similar flexibility) or `histplot` (an axes-level function for histograms).\n",
            "  warnings.warn(msg, FutureWarning)\n"
          ]
        },
        {
          "output_type": "execute_result",
          "data": {
            "text/plain": [
              "<matplotlib.axes._subplots.AxesSubplot at 0x7f4f24253e50>"
            ]
          },
          "metadata": {},
          "execution_count": 58
        },
        {
          "output_type": "display_data",
          "data": {
            "text/plain": [
              "<Figure size 432x288 with 1 Axes>"
            ],
            "image/png": "[encoded data removed]"
          },
          "metadata": {}
        }
      ]
    },
    {
      "cell_type": "markdown",
      "source": [
        "- A high percentage of accidents occur between 2 pm to 5 pm \n"
      ],
      "metadata": {
        "id": "DKvkCKsfrQC3"
      }
    },
    {
      "cell_type": "code",
      "source": [
        "sns.distplot(df.Start_Time.dt.dayofweek, bins=7, kde=False, norm_hist=True)"
      ],
      "metadata": {
        "colab": {
          "base_uri": "https://localhost:8080/",
          "height": 297
        },
        "id": "tk5z0ki5lnRh",
        "outputId": "2d47b623-ab81-4e05-bcc3-dcfb314d5ecf"
      },
      "execution_count": 59,
      "outputs": [
        {
          "output_type": "execute_result",
          "data": {
            "text/plain": [
              "<matplotlib.axes._subplots.AxesSubplot at 0x7f4f23e4f910>"
            ]
          },
          "metadata": {},
          "execution_count": 59
        },
        {
          "output_type": "display_data",
          "data": {
            "text/plain": [
              "<Figure size 432x288 with 1 Axes>"
            ],
            "image/png": "[encoded data removed]"
          },
          "metadata": {}
        }
      ]
    },
    {
      "cell_type": "markdown",
      "source": [
        "Is the distribution of accidents by hour the same on weekends as on weekdays."
      ],
      "metadata": {
        "id": "eCemUUZDr90s"
      }
    },
    {
      "cell_type": "code",
      "source": [
        "sundays_start_time = df.Start_Time[df.Start_Time.dt.dayofweek == 6]\n",
        "sns.distplot(sundays_start_time.dt.hour, bins=24, kde=False, norm_hist=True)"
      ],
      "metadata": {
        "colab": {
          "base_uri": "https://localhost:8080/",
          "height": 297
        },
        "id": "Yy4FAXgVsHdO",
        "outputId": "21b67dde-92f6-486b-b874-2fb781bf7236"
      },
      "execution_count": 60,
      "outputs": [
        {
          "output_type": "execute_result",
          "data": {
            "text/plain": [
              "<matplotlib.axes._subplots.AxesSubplot at 0x7f4f23e27810>"
            ]
          },
          "metadata": {},
          "execution_count": 60
        },
        {
          "output_type": "display_data",
          "data": {
            "text/plain": [
              "<Figure size 432x288 with 1 Axes>"
            ],
            "image/png": "[encoded data removed]"
          },
          "metadata": {}
        }
      ]
    },
    {
      "cell_type": "code",
      "source": [
        "mondays_start_time = df.Start_Time[df.Start_Time.dt.dayofweek == 0]\n",
        "sns.distplot(mondays_start_time.dt.hour, bins=24, kde=False, norm_hist=True)"
      ],
      "metadata": {
        "colab": {
          "base_uri": "https://localhost:8080/",
          "height": 297
        },
        "id": "eFLyZPjXsHPs",
        "outputId": "5fe2048f-06bf-47ef-c6d4-a95e46d24add"
      },
      "execution_count": 61,
      "outputs": [
        {
          "output_type": "execute_result",
          "data": {
            "text/plain": [
              "<matplotlib.axes._subplots.AxesSubplot at 0x7f4f23de4450>"
            ]
          },
          "metadata": {},
          "execution_count": 61
        },
        {
          "output_type": "display_data",
          "data": {
            "text/plain": [
              "<Figure size 432x288 with 1 Axes>"
            ],
            "image/png": "[encoded data removed]"
          },
          "metadata": {}
        }
      ]
    },
    {
      "cell_type": "markdown",
      "source": [
        "On Sundays, the peak occurs between 10 am and 6 pm, unlike weekdays"
      ],
      "metadata": {
        "id": "LfRQcaL6tF9Q"
      }
    },
    {
      "cell_type": "code",
      "source": [
        "df_2020 = df[df.Start_Time.dt.year == 2016]\n",
        "sns.distplot(df_2020.Start_Time.dt.month, bins=12, kde=False, norm_hist=True)"
      ],
      "metadata": {
        "colab": {
          "base_uri": "https://localhost:8080/",
          "height": 297
        },
        "id": "xmDi_yTSsHKN",
        "outputId": "f2b2e9a2-3b56-44f5-af9b-fe8c43588489"
      },
      "execution_count": 74,
      "outputs": [
        {
          "output_type": "execute_result",
          "data": {
            "text/plain": [
              "<matplotlib.axes._subplots.AxesSubplot at 0x7f4f23982250>"
            ]
          },
          "metadata": {},
          "execution_count": 74
        },
        {
          "output_type": "display_data",
          "data": {
            "text/plain": [
              "<Figure size 432x288 with 1 Axes>"
            ],
            "image/png": "[encoded data removed]"
          },
          "metadata": {}
        }
      ]
    },
    {
      "cell_type": "markdown",
      "source": [
        "Can you explain the month-wise trend of accidents?\n",
        "\n",
        "- Much data is missing for 2016. Maybe even 2020.\n"
      ],
      "metadata": {
        "id": "rUl4oH5zxHrF"
      }
    },
    {
      "cell_type": "markdown",
      "source": [
        "### Start Latitide and Longitude"
      ],
      "metadata": {
        "id": "aWffqSfE4Cr2"
      }
    },
    {
      "cell_type": "code",
      "source": [
        "df.Start_Lat"
      ],
      "metadata": {
        "colab": {
          "base_uri": "https://localhost:8080/"
        },
        "id": "sP0RIBhJx7mL",
        "outputId": "ed483c62-ab41-4254-c094-0d890647b35c"
      },
      "execution_count": 76,
      "outputs": [
        {
          "output_type": "execute_result",
          "data": {
            "text/plain": [
              "0          40.108910\n",
              "1          39.865420\n",
              "2          39.102660\n",
              "3          41.062130\n",
              "4          39.172393\n",
              "             ...    \n",
              "2845337    34.002480\n",
              "2845338    32.766960\n",
              "2845339    33.775450\n",
              "2845340    33.992460\n",
              "2845341    34.133930\n",
              "Name: Start_Lat, Length: 2845342, dtype: float64"
            ]
          },
          "metadata": {},
          "execution_count": 76
        }
      ]
    },
    {
      "cell_type": "code",
      "source": [
        "df.Start_Lng"
      ],
      "metadata": {
        "colab": {
          "base_uri": "https://localhost:8080/"
        },
        "id": "CQb3zZLvx7iw",
        "outputId": "717e7fdf-f29c-4f59-e3d2-d186853980e1"
      },
      "execution_count": 77,
      "outputs": [
        {
          "output_type": "execute_result",
          "data": {
            "text/plain": [
              "0          -83.092860\n",
              "1          -84.062800\n",
              "2          -84.524680\n",
              "3          -81.537840\n",
              "4          -84.492792\n",
              "              ...    \n",
              "2845337   -117.379360\n",
              "2845338   -117.148060\n",
              "2845339   -117.847790\n",
              "2845340   -118.403020\n",
              "2845341   -117.230920\n",
              "Name: Start_Lng, Length: 2845342, dtype: float64"
            ]
          },
          "metadata": {},
          "execution_count": 77
        }
      ]
    },
    {
      "cell_type": "code",
      "source": [
        "sample_df = df.sample(int(0.1 * len(df)))"
      ],
      "metadata": {
        "id": "Zauqt627x7ez"
      },
      "execution_count": 79,
      "outputs": []
    },
    {
      "cell_type": "code",
      "source": [
        "sns.scatterplot(x=sample_df.Start_Lng, y=sample_df.Start_Lat, size=0.001)"
      ],
      "metadata": {
        "colab": {
          "base_uri": "https://localhost:8080/",
          "height": 299
        },
        "id": "trTNGDS2x7cS",
        "outputId": "0776ac86-184f-43bc-cc97-9f46a9e366c6"
      },
      "execution_count": 80,
      "outputs": [
        {
          "output_type": "execute_result",
          "data": {
            "text/plain": [
              "<matplotlib.axes._subplots.AxesSubplot at 0x7f4f237082d0>"
            ]
          },
          "metadata": {},
          "execution_count": 80
        },
        {
          "output_type": "display_data",
          "data": {
            "text/plain": [
              "<Figure size 432x288 with 1 Axes>"
            ],
            "image/png": "[encoded data removed]"
          },
          "metadata": {}
        }
      ]
    },
    {
      "cell_type": "code",
      "source": [
        "import folium"
      ],
      "metadata": {
        "id": "zXf2Ejz_x7Zl"
      },
      "execution_count": 81,
      "outputs": []
    },
    {
      "cell_type": "code",
      "source": [
        "lat, lon = df.Start_Lat[0], df.Start_Lng[0]\n",
        "lat, lon"
      ],
      "metadata": {
        "colab": {
          "base_uri": "https://localhost:8080/"
        },
        "id": "kLtxDcbnx7Wz",
        "outputId": "8c7745b6-39f4-446c-9947-6444bd4d1ffd"
      },
      "execution_count": 82,
      "outputs": [
        {
          "output_type": "execute_result",
          "data": {
            "text/plain": [
              "(40.10891, -83.09286)"
            ]
          },
          "metadata": {},
          "execution_count": 82
        }
      ]
    },
    {
      "cell_type": "code",
      "source": [
        "zip(list(df.Start_Lat), list(df.Start_Lng))"
      ],
      "metadata": {
        "colab": {
          "base_uri": "https://localhost:8080/"
        },
        "id": "MEjBxCt8x7RI",
        "outputId": "97e9fc66-79ab-431a-b64f-e1a6eb86f07c"
      },
      "execution_count": 84,
      "outputs": [
        {
          "output_type": "execute_result",
          "data": {
            "text/plain": [
              "<zip at 0x7f4f219797d0>"
            ]
          },
          "metadata": {},
          "execution_count": 84
        }
      ]
    },
    {
      "cell_type": "code",
      "source": [
        "from folium.plugins import HeatMap"
      ],
      "metadata": {
        "id": "yDK5m2VHx7Ob"
      },
      "execution_count": 85,
      "outputs": []
    },
    {
      "cell_type": "code",
      "source": [
        "sample_df = df.sample(int(0.001 * len(df)))\n",
        "lat_lon_pairs = list(zip(list(sample_df.Start_Lat), list(sample_df.Start_Lng)))"
      ],
      "metadata": {
        "id": "Oy3ZZTluzwkk"
      },
      "execution_count": 86,
      "outputs": []
    },
    {
      "cell_type": "code",
      "source": [
        "map = folium.Map()\n",
        "HeatMap(lat_lon_pairs).add_to(map)\n",
        "map"
      ],
      "metadata": {
        "colab": {
          "base_uri": "https://localhost:8080/",
          "height": 685
        },
        "id": "5tljeXQdzwg-",
        "outputId": "eac516bb-5dcd-4690-cfe2-ecc22d0a9a69"
      },
      "execution_count": 87,
      "outputs": [
        {
          "output_type": "execute_result",
          "data": {
            "text/plain": [
              "<folium.folium.Map at 0x7f4f21972610>"
            ],
            "text/html": [
              "<div style=\"width:100%;\"><div style=\"position:relative;width:100%;height:0;padding-bottom:60%;\"><span style=\"color:#565656\">Make this Notebook Trusted to load map: File -> Trust Notebook</span><iframe srcdoc=\"&lt;!DOCTYPE html&gt;\n",
              "&lt;head&gt;    \n",
              "    &lt;meta http-equiv=&quot;content-type&quot; content=&quot;text/html; charset=UTF-8&quot; /&gt;\n",
              "    \n",
              "        &lt;script&gt;\n",
              "            L_NO_TOUCH = false;\n",
              "            L_DISABLE_3D = false;\n",
              "        &lt;/script&gt;\n",
              "    \n",
              "    &lt;style&gt;html, body {width: 100%;height: 100%;margin: 0;padding: 0;}&lt;/style&gt;\n",
              "    &lt;style&gt;#map {position:absolute;top:0;bottom:0;right:0;left:0;}&lt;/style&gt;\n",
              "    &lt;script src=&quot;https://cdn.jsdelivr.net/npm/leaflet@1.6.0/dist/leaflet.js&quot;&gt;&lt;/script&gt;\n",
              "    &lt;script src=&quot;https://code.jquery.com/jquery-1.12.4.min.js&quot;&gt;&lt;/script&gt;\n",
              "    &lt;script src=&quot;https://maxcdn.bootstrapcdn.com/bootstrap/3.2.0/js/bootstrap.min.js&quot;&gt;&lt;/script&gt;\n",
              "    &lt;script src=&quot;https://cdnjs.cloudflare.com/ajax/libs/Leaflet.awesome-markers/2.0.2/leaflet.awesome-markers.js&quot;&gt;&lt;/script&gt;\n",
              "    &lt;link rel=&quot;stylesheet&quot; href=&quot;https://cdn.jsdelivr.net/npm/leaflet@1.6.0/dist/leaflet.css&quot;/&gt;\n",
              "    &lt;link rel=&quot;stylesheet&quot; href=&quot;https://maxcdn.bootstrapcdn.com/bootstrap/3.2.0/css/bootstrap.min.css&quot;/&gt;\n",
              "    &lt;link rel=&quot;stylesheet&quot; href=&quot;https://maxcdn.bootstrapcdn.com/bootstrap/3.2.0/css/bootstrap-theme.min.css&quot;/&gt;\n",
              "    &lt;link rel=&quot;stylesheet&quot; href=&quot;https://maxcdn.bootstrapcdn.com/font-awesome/4.6.3/css/font-awesome.min.css&quot;/&gt;\n",
              "    &lt;link rel=&quot;stylesheet&quot; href=&quot;https://cdnjs.cloudflare.com/ajax/libs/Leaflet.awesome-markers/2.0.2/leaflet.awesome-markers.css&quot;/&gt;\n",
              "    &lt;link rel=&quot;stylesheet&quot; href=&quot;https://cdn.jsdelivr.net/gh/python-visualization/folium/folium/templates/leaflet.awesome.rotate.min.css&quot;/&gt;\n",
              "    \n",
              "            &lt;meta name=&quot;viewport&quot; content=&quot;width=device-width,\n",
              "                initial-scale=1.0, maximum-scale=1.0, user-scalable=no&quot; /&gt;\n",
              "            &lt;style&gt;\n",
              "                #map_edbd9aa020d561b63767ac5f8a635b56 {\n",
              "                    position: relative;\n",
              "                    width: 100.0%;\n",
              "                    height: 100.0%;\n",
              "                    left: 0.0%;\n",
              "                    top: 0.0%;\n",
              "                }\n",
              "            &lt;/style&gt;\n",
              "        \n",
              "    &lt;script src=&quot;https://cdn.jsdelivr.net/gh/python-visualization/folium@master/folium/templates/leaflet_heat.min.js&quot;&gt;&lt;/script&gt;\n",
              "&lt;/head&gt;\n",
              "&lt;body&gt;    \n",
              "    \n",
              "            &lt;div class=&quot;folium-map&quot; id=&quot;map_edbd9aa020d561b63767ac5f8a635b56&quot; &gt;&lt;/div&gt;\n",
              "        \n",
              "&lt;/body&gt;\n",
              "&lt;script&gt;    \n",
              "    \n",
              "            var map_edbd9aa020d561b63767ac5f8a635b56 = L.map(\n",
              "                &quot;map_edbd9aa020d561b63767ac5f8a635b56&quot;,\n",
              "                {\n",
              "                    center: [0, 0],\n",
              "                    crs: L.CRS.EPSG3857,\n",
              "                    zoom: 1,\n",
              "                    zoomControl: true,\n",
              "                    preferCanvas: false,\n",
              "                }\n",
              "            );\n",
              "\n",
              "            \n",
              "\n",
              "        \n",
              "    \n",
              "            var tile_layer_5c9ab82fd3877c72d7b1bd5f0b96f83d = L.tileLayer(\n",
              "                &quot;https://{s}.tile.openstreetmap.org/{z}/{x}/{y}.png&quot;,\n",
              "                {&quot;attribution&quot;: &quot;Data by \\u0026copy; \\u003ca href=\\&quot;http://openstreetmap.org\\&quot;\\u003eOpenStreetMap\\u003c/a\\u003e, under \\u003ca href=\\&quot;http://www.openstreetmap.org/copyright\\&quot;\\u003eODbL\\u003c/a\\u003e.&quot;, &quot;detectRetina&quot;: false, &quot;maxNativeZoom&quot;: 18, &quot;maxZoom&quot;: 18, &quot;minZoom&quot;: 0, &quot;noWrap&quot;: false, &quot;opacity&quot;: 1, &quot;subdomains&quot;: &quot;abc&quot;, &quot;tms&quot;: false}\n",
              "            ).addTo(map_edbd9aa020d561b63767ac5f8a635b56);\n",
              "        \n",
              "    \n",
              "            var heat_map_c79153527fc6e3f08189d54f6e597a74 = L.heatLayer(\n",
              "                [[35.140188, -118.462089], [39.99895, -104.98158], [39.899058, -75.109792], [38.61056, -121.42725], [45.51157, -122.70535], [33.542846999999995, -84.577079], [46.252763, -123.921567], [42.72975, -73.69906], [35.034974, -85.15294300000002], [40.273691, -112.248491], [43.07216, -76.14272], [36.70719, -78.029707], [33.693252, -117.928998], [45.761492, -112.185185], [35.322353, -114.205257], [42.893357, -76.045232], [30.40674000000001, -91.125084], [34.043941, -117.284984], [25.706566, -80.414895], [33.62856, -112.240136], [40.71068, -74.00272], [45.076245, -120.680042], [34.012466, -118.490787], [34.152708000000004, -118.224389], [41.87185, -87.76342], [39.249011, -121.53884], [30.299716, -81.766767], [33.745662, -117.842442], [29.15510200000001, -82.08265300000002], [28.419495, -80.820461], [34.13958, -118.71322], [32.826601000000004, -96.783875], [29.75346, -95.45571], [33.664358, -117.300744], [34.325958, -79.754852], [35.542799, -82.915588], [44.75754000000001, -122.49928], [34.23443, -118.28546], [34.032376, -118.222395], [40.68201, -75.28888], [42.2276, -87.97713], [43.06212, -120.81717], [32.837352, -96.968666], [29.958144, -90.09154], [45.64538, -121.92202], [34.179806, -117.270766], [37.32876, -121.89563], [29.7845, -95.56561], [35.19552, -80.88391], [33.95890900000001, -118.110865], [28.561316, -81.364446], [34.464148, -120.063359], [33.34323, -91.840382], [41.112803, -100.775882], [44.858205, -93.145882], [41.87419000000001, -87.71627], [39.84204, -75.706786], [25.726545, -80.31804699999998], [45.541729, -122.287204], [37.898282, -122.309511], [46.7132, -95.92049], [26.057327, -80.16233299999998], [36.933253, -121.550925], [32.657407, -117.082725], [37.718043, -121.66644], [33.912502, -84.285997], [42.42748, -71.02041], [38.91464000000001, -76.93269000000002], [29.431013, -98.389133], [38.73098, -120.748983], [34.05138, -117.160945], [39.53083, -77.60444], [34.168002, -118.496862], [34.64748, -117.215976], [34.141905, -117.489581], [33.923724, -118.278244], [28.449912, -81.47993000000002], [28.35741, -81.49181], [47.70855, -122.31788], [34.159578, -81.273178], [25.889511, -80.162851], [40.735766, -73.858215], [34.039089000000004, -118.43975], [35.840001, -78.677142], [34.15573, -118.42777], [38.12912, -122.226576], [34.034823, -118.437431], [40.78387100000001, -73.652629], [33.82425, -118.20668], [25.81711, -80.20644], [39.117175, -121.634712], [42.075995, -72.581339], [25.930242, -80.30974499999998], [30.002387, -90.108491], [32.838987, -117.229347], [48.530151, -122.002892], [25.81711, -80.20644], [39.6144, -105.09141], [36.07894, -86.72613], [38.00485, -121.84167], [35.263969, -118.653801], [32.942802, -96.742781], [44.909465, -121.442556], [41.055056, -73.810422], [38.081705, -88.619617], [41.574271, -87.474828], [39.753863, -77.728188], [30.485959, -84.41027199999998], [41.685272, -87.66234], [47.817304, -92.674557], [40.877974, -78.46333800000002], [33.866789000000004, -118.290554], [34.05166, -117.16078], [33.942002, -117.555402], [43.85938, -93.0482], [38.367272, -122.17688400000002], [29.967625, -90.090563], [43.403438, -123.380106], [28.607125, -81.42330600000003], [37.15515, -119.731653], [29.812790000000003, -95.40872], [37.240961, -93.311144], [42.93061, -112.44024], [34.293965, -117.45391], [41.518718, -76.43687299999998], [41.642678, -86.994348], [38.998793, -76.998526], [44.113991, -121.292229], [40.66017, -75.07018000000002], [33.385713, -112.21065], [38.638915, -121.330059], [35.77486500000001, -120.89121000000002], [37.80644, -121.99085], [41.90815, -87.66243], [27.921562, -82.349599], [25.768855, -80.35945500000003], [34.150681, -118.467354], [41.525091, -72.759962], [28.755716, -81.363662], [40.73873, -73.60946], [33.853953000000004, -117.945871], [45.274532, -122.773862], [38.087936, -122.231794], [39.05643, -94.62956], [28.486787, -81.42019300000003], [40.866147, -73.974906], [40.674772, -74.279613], [34.056089, -118.255883], [36.156914, -86.775033], [40.125068, -75.341164], [40.369892, -74.144271], [41.01208, -73.702372], [33.753998, -117.850538], [30.60272800000001, -88.149801], [33.984286, -117.842712], [26.482178, -81.78526600000002], [33.615585, -84.486887], [36.896848, -106.581759], [29.97946, -95.42199], [42.33422, -87.87165], [40.697317, -111.980688], [26.57806, -80.06947], [39.27092, -77.54834], [33.02706, -83.327344], [26.205056, -80.132747], [33.467448, -111.932412], [33.74263, -84.3923], [34.017839, -118.180024], [28.444032, -81.365511], [45.61285, -122.01168], [26.26534, -80.12913], [45.569919, -122.678737], [41.84636, -87.63839], [28.557732, -81.206983], [38.338317, -122.712769], [41.87535, -87.68088], [32.721641, -117.154746], [36.202266, -86.743727], [45.270603, -122.777099], [42.509568, -73.79082], [25.924445, -80.30357], [30.47914, -90.48566], [25.750863, -80.36803], [35.843656, -78.682802], [40.71643, -73.97559], [39.938085, -78.982253], [28.26762, -81.363463], [45.484391, -117.417107], [38.800352, -77.117468], [39.1699, -76.63213], [33.85235, -117.88198], [29.978889, -90.113006], [37.316662, -121.947973], [40.918375, -74.819351], [42.97337, -85.64375], [32.932502, -117.112358], [45.03584, -93.34338], [34.151136, -118.153846], [34.02725, -118.20954], [43.26895, -123.35656000000002], [33.814025, -117.913568], [42.17738, -119.89896], [40.844065, -73.925967], [33.76579, -117.954961], [39.93322, -122.034703], [35.841361, -77.973543], [25.953955, -80.205499], [43.779097, -93.764094], [39.62064, -77.77977], [27.876852000000003, -82.656058], [35.040415, -85.265068], [38.540304, -77.34916199999998], [42.438372, -73.55485], [38.93146, -77.21025999999998], [40.22264000000001, -76.0966], [42.023758, -72.589089], [40.023748, -74.268825], [34.173434, -118.539723], [30.263447, -97.816413], [33.866633, -117.540718], [34.161271, -118.471036], [33.706234, -81.101457], [30.353756, -97.650749], [32.705, -96.832712], [46.600735, -112.09505], [33.767713, -118.032571], [36.593967, -121.873494], [40.843702, -73.895577], [37.490344, -77.43250400000002], [28.02563300000001, -82.552974], [34.688016999999995, -82.788129], [28.06084, -82.35406], [25.919076, -80.210353], [45.53196, -122.63329], [25.641617, -80.33507900000002], [34.137107, -80.923393], [38.877643, -76.991435], [39.276813, -76.725258], [39.72213, -104.82541], [33.77688, -84.61074], [46.992269, -114.44105], [34.019290000000005, -118.488386], [30.55815, -97.69184], [34.034375, -118.349962], [33.133016, -117.10532], [40.624284, -74.019568], [40.132818, -76.087159], [33.765546, -118.029609], [45.22846, -121.70009], [33.784911, -84.378571], [35.877882, -86.487303], [34.753138, -114.565891], [25.671563, -80.395484], [29.657179, -95.570632], [45.557395, -93.590909], [38.9215, -76.959837], [40.14492, -76.81408], [37.641875, -122.091621], [28.576866, -81.70097700000002], [38.61425, -121.423437], [25.7866, -80.21251], [33.925595, -118.314219], [35.04203, -82.08993000000002], [27.429077000000003, -82.521883], [38.692738, -120.899342], [48.396631, -115.537468], [42.261887, -83.287598], [45.06597, -93.28617], [43.819903, -95.235725], [27.89394, -82.736238], [45.53598, -122.66773], [43.762911, -91.413105], [41.85806, -88.13589], [39.874321, -75.09944], [34.03054, -118.402261], [36.32689, -119.219114], [25.85225, -80.20814], [38.82969, -76.86471], [32.981693, -80.087773], [25.77452000000001, -80.141521], [37.993192, -122.104465], [37.824803, -122.313821], [37.495661, -77.561534], [37.96472, -122.32493999999998], [45.159123, -93.391463], [33.81795, -84.389], [47.53341, -122.196754], [34.17333, -118.535977], [37.88178, -122.30826], [32.327641, -95.341277], [36.561628000000006, -119.70056], [40.907045, -124.042242], [44.966127, -93.25785], [25.927232, -80.15359699999998], [45.64624600000001, -122.841855], [37.43756, -77.4543], [25.701866, -80.343517], [45.3464, -122.98387], [38.00972700000001, -121.320022], [37.803418, -122.290876], [40.702422, -73.992131], [32.831842, -96.780324], [35.21853400000001, -80.819139], [34.82835, -82.43518], [32.839566999999995, -97.229879], [45.37121, -122.74744], [39.9402, -75.01136], [27.167162, -80.302246], [45.454684, -93.585872], [38.948044, -76.825817], [40.004441, -79.761602], [35.16395, -80.95784], [40.242562, -111.184703], [33.825348, -118.218544], [33.6987, -117.861755], [35.82492, -78.621751], [37.72, -121.65893], [33.747431, -117.455302], [38.003464, -121.835484], [44.67662, -93.29361], [37.94486, -122.48414], [41.41301, -81.50749], [38.455994, -121.405267], [25.869332, -80.20797900000002], [25.810672, -80.181602], [41.07593, -73.92029699999998], [44.965746, -93.400717], [25.868982, -80.238434], [45.488473, -118.409668], [34.199341, -79.8006], [38.974814, -77.077084], [47.155441, -94.685675], [30.11539, -97.69509], [38.044137, -78.818156], [35.077341, -81.86725899999998], [27.766517, -82.671207], [43.029252, -77.973929], [27.861951, -82.32669399999997], [30.436506, -91.030637], [38.095103, -122.229734], [32.252468, -110.840998], [39.882769, -104.98746], [32.85027, -79.98746], [34.05487, -118.25704], [38.643347, -121.114874], [33.912956, -118.17988], [30.362251, -83.219879], [40.83305, -73.93176], [45.68183, -122.66472], [34.132159, -118.002064], [45.672687, -122.664424], [26.942843, -80.153127], [40.736096, -73.856388], [39.019668, -121.440189], [39.778414, -104.907728], [27.464153000000003, -82.58762], [41.013647, -78.31094300000002], [35.033072, -82.018615], [41.79673, -87.8075], [40.73673, -73.85271800000002], [39.80510200000001, -84.235028], [42.425497, -123.33195], [29.746107, -95.33523], [39.613984, -84.262679], [34.146869, -118.226421], [30.38863, -91.172052], [45.627883, -92.992089], [33.982495, -117.708873], [36.97394, -121.720035], [36.75339, -119.72484], [29.743921000000004, -95.451705], [25.84702, -80.210123], [37.99305, -122.07401000000002], [37.994501, -121.773974], [38.54904000000001, -112.38446100000002], [34.287568, -119.159978], [44.97104, -93.46061], [32.221378, -110.944049], [40.68578, -73.80726], [39.500054, -107.911907], [25.769762, -80.330363], [35.117272, -80.929724], [38.244257, -77.50380899999998], [36.98885, -122.017981], [37.74174, -121.5742], [40.71816, -111.87594], [33.093275, -117.083714], [32.851163, -96.771495], [45.00958, -123.97791], [41.99352, -88.26803000000002], [34.068574, -117.974744], [37.725182, -122.401639], [25.684676, -80.387136], [38.540976, -121.475778], [33.491368, -117.661906], [34.016946999999995, -117.332189], [45.555506, -122.678693], [38.621966, -120.758696], [40.845075, -73.911455], [33.033152, -117.279514], [29.7257, -95.47638], [40.719162, -73.945722], [32.77896, -117.06168], [44.97033, -93.33141], [42.26592, -83.25112], [33.875902, -118.164664], [39.05602, -94.493697], [27.450992, -82.53144300000002], [40.79374, -74.46842], [30.288555, -97.723358], [33.932052, -117.985369], [47.236027, -93.552711], [41.81888, -71.38271999999998], [27.24232, -82.45141], [33.402709, -81.684726], [40.690085, -74.10279200000002], [43.87801, -93.276833], [25.64397300000001, -80.332115], [41.651905, -93.690644], [37.358204, -77.40405600000003], [33.853823, -117.928813], [41.7035, -87.62064000000002], [37.35608, -121.90955], [34.819776, -82.268579], [33.80782, -118.20711], [35.81547600000001, -78.602744], [33.792541, -118.332497], [40.74137, -114.0634], [32.857049, -96.768704], [33.45854, -112.311921], [32.691875, -96.845954], [38.42243, -121.48642], [25.880411, -80.242889], [34.05835, -118.45438], [33.959846, -80.985941], [33.49581, -82.6127], [40.715773, -73.827997], [35.616113, -119.659391], [33.349386, -117.244239], [33.772269, -117.909295], [33.33545, -111.97235], [45.035632, -92.863038], [33.710455, -80.920185], [33.672483, -80.897921], [36.727515, -119.795231], [33.625513, -117.60052], [43.080039, -75.318381], [43.19199, -77.59992], [33.965629, -118.252018], [39.966169, -78.86766300000002], [30.757673, -85.816901], [26.091209, -80.168387], [26.09479, -80.2333], [40.73808, -74.21733], [34.9924, -117.542969], [34.034716, -118.342749], [34.080517, -117.418269], [42.544935, -123.37036100000002], [40.24019000000001, -75.57200999999998], [34.979002, -82.008635], [40.95185, -73.8534], [40.908676, -123.70711599999998], [38.664091, -121.235027], [30.42695800000001, -91.168221], [30.13688, -81.536], [28.276775, -81.473083], [25.371755, -80.462654], [42.87687, -78.87053], [26.61379, -80.06881], [39.05602, -76.92831], [33.7467, -118.292325], [33.93012, -118.23909], [25.704345, -80.287369], [29.249296, -82.209855], [29.77904, -95.37775], [32.836864, -96.92736], [34.420024, -117.172562], [47.053298, -94.539916], [28.75107, -81.27707], [32.739354, -96.823499], [41.90626, -87.93834], [25.758205, -80.32099000000002], [33.212045, -84.064131], [37.210979, -93.261832], [39.59091, -74.85585], [34.028991999999995, -118.44684], [30.455040000000004, -97.82619], [36.981087, -121.964869], [37.76432, -122.21711], [38.66075, -121.272129], [36.323823, -86.705149], [28.451637, -81.470822], [45.09156, -93.188011], [40.724831, -111.511944], [39.80082700000001, -86.166039], [34.156279999999995, -118.26049], [35.319169, -80.808059], [33.974641, -118.287663], [39.866671, -74.21786], [41.324451, -72.882799], [32.33758, -111.0882], [38.87378, -121.311732], [34.03006, -118.44154], [35.364645, -119.040111], [34.637196, -92.453439], [28.553196000000003, -81.368015], [37.49577, -121.92294], [30.352786, -97.638991], [28.298538, -81.577788], [25.595673, -80.369511], [47.364095, -122.294725], [28.148825, -82.407637], [34.234793, -117.493187], [34.161437, -119.152155], [45.68037, -120.79602], [42.944916, -78.766389], [40.732187, -74.12942199999998], [38.593531, -121.401478], [32.133692, -110.995755], [32.693397999999995, -96.785587], [40.348253, -74.478569], [40.33364, -111.26127], [34.8028, -91.723069], [45.893112, -122.811977], [25.878423, -80.355039], [39.27123, -76.72209000000002], [44.463662, -118.698162], [32.936722, -117.241405], [45.488473, -118.409668], [38.79935, -90.61618], [37.89162, -122.061957], [32.783775, -96.808065], [38.324114, -77.502149], [25.955786, -80.205562], [26.523175, -81.794617], [30.343941, -91.035448], [37.74064, -84.32333], [42.466164, -83.232167], [40.68008, -112.27355], [39.79855, -86.11189], [38.57538, -121.53426], [37.609995, -122.069136], [34.143159000000004, -117.39507], [37.33734000000001, -121.85601], [47.232399, -122.438303], [47.16109, -122.46748], [33.93463, -84.494], [25.939106, -80.261326], [41.076904, -75.583158], [36.917813, -113.84863], [35.75185, -78.70633000000002], [28.629209000000003, -81.38705300000002], [32.769573, -96.757511], [33.867107, -117.744831], [40.151585, -76.819549], [34.289494, -117.451951], [38.660723, -121.327363], [33.835315, -117.29638], [44.452398, -121.19947], [39.841455, -75.73568900000002], [35.11531, -90.02165], [25.627115, -80.39933], [44.965692, -93.265095], [42.43761, -123.2787], [33.83784, -117.8762], [30.555802000000003, -91.155635], [30.08577, -90.4315], [40.186715, -75.229275], [37.973925, -120.322029], [39.270805, -123.242556], [39.014135, -76.612998], [34.32442, -117.48205], [33.248523, -87.13893], [39.331816, -120.289016], [30.394772, -91.17657], [37.696755, -121.874881], [25.889492, -80.162572], [39.833212, -75.804985], [36.749402, -119.776006], [30.37241, -97.66588], [43.597996, -116.294136], [44.144643, -94.091066], [34.731801000000004, -92.283338], [34.172340000000005, -118.532685], [37.275227, -121.843987], [40.669518, -74.17746600000002], [39.605165, -84.13094], [29.728741, -95.441105], [42.35312, -83.08957], [39.362832, -121.741821], [32.453434, -93.763008], [40.111211, -75.096625], [35.14841, -80.83091999999998], [28.343858, -82.187563], [45.028184, -93.28666], [33.351706, -117.075852], [34.241719, -116.97719], [39.984319, -83.02259000000002], [34.034432, -118.266631], [33.892166, -79.378784], [40.63978400000001, -74.290545], [34.12725, -117.822173], [40.74814, -73.96808], [42.19255, -88.28653], [38.342639, -75.214215], [29.98226, -81.45935], [37.369756, -120.626137], [28.597576, -81.297676], [30.49867, -91.153434], [38.22488, -122.1259], [34.007781, -84.560147], [42.876194, -78.79269000000002], [42.3205, -71.17514], [26.673682, -81.895596], [44.92474, -93.45139], [40.087296, -75.15154], [25.733369, -80.327475], [29.591495, -90.71741], [36.15249, -86.80271], [34.19021, -118.13131], [40.735842, -74.358889], [40.43965, -104.99242], [40.85159, -73.95259], [47.88325800000001, -122.157361], [47.622259, -122.328683], [41.85048, -87.64493], [32.787675, -96.579138], [41.369433, -112.034645], [30.369249, -87.17491], [34.077355, -117.558389], [34.02724, -118.457943], [40.732144, -74.221347], [32.920775, -97.317041], [37.50962, -77.274337], [44.95333, -93.08944], [29.732812, -95.501165], [47.079473, -114.769009], [32.854971, -96.646859], [40.76187, -73.83898], [32.94883, -83.812395], [34.31112, -118.43267], [30.417024, -91.097676], [35.306204, -80.74951], [47.54866, -122.31619], [37.42382, -77.58185999999998], [33.533062, -86.64958100000004], [29.60433, -82.37546], [40.92558, -81.76334], [25.928571, -80.19029], [26.226734000000004, -80.136298], [33.783735, -118.091473], [32.980024, -117.253001], [44.5562, -93.29849], [42.411798, -83.218873], [38.677216, -121.745366], [27.768008, -82.39236899999999], [41.546525, -73.718837], [33.916222999999995, -118.223587], [33.376472, -80.619977], [33.461683, -112.11411499999998], [32.912557, -96.87629], [41.797195, -88.30292299999998], [33.922754, -118.029219], [35.120286, -118.396582], [35.09089, -106.735945], [42.65878, -122.71771], [36.58882, -120.388645], [34.074964, -118.232606], [47.64291, -117.584561], [25.6146, -80.32399699999998], [41.806098, -122.577407], [40.72495, -112.03967], [32.442521, -93.746007], [45.508708, -122.738383], [33.700765000000004, -117.947705], [41.314561, -73.86425], [33.723823, -117.976452], [28.811398, -82.08886700000002], [32.884429, -86.621736], [35.274151, -80.827898], [40.93335, -73.86932], [34.083558000000004, -118.298466], [34.055962, -118.451484], [32.837048, -96.938191], [39.985718, -75.954187], [37.70511, -122.4708], [37.449199, -120.949066], [34.887697, -82.181529], [29.83059, -94.48873], [44.794338, -93.221751], [34.036654, -118.375649], [41.290301, -92.674838], [25.926793, -80.375911], [32.13406, -110.9346], [38.43886, -82.150674], [33.74749, -84.439296], [28.551435, -81.413666], [38.71011, -121.30688], [30.170013, -81.532176], [30.385881, -97.648943], [39.775316, -84.292454], [32.867799, -96.683024], [39.598569, -111.62082], [34.036919, -118.300363], [33.69891, -84.26978000000003], [39.978754, -76.698073], [38.660818, -121.388191], [45.020426, -93.283268], [33.874922999999995, -118.343562], [38.93081, -94.52665], [44.42857100000001, -121.720522], [34.082395, -80.99638900000002], [44.86227, -93.25802], [34.076692, -118.219389], [44.06536, -123.17358], [37.51584, -77.44353000000002], [33.469859, -117.67367], [39.905963, -122.150651], [33.775094, -117.853034], [35.195386, -80.875947], [35.044909999999994, -85.162433], [33.951605, -118.368984], [26.33086500000001, -81.78789], [34.004155, -117.726284], [25.704937, -80.366373], [25.891627, -80.163146], [34.889674, -82.586901], [29.404755, -98.441746], [46.879853, -99.56893], [25.943108, -80.358005], [37.931695, -122.325215], [34.06876, -118.236962], [25.947194, -80.245504], [33.785983, -78.778699], [38.867708, -77.315586], [41.043417, -73.78794599999998], [30.273846, -81.768633], [37.717875, -121.66603], [45.253074, -123.03410900000002], [34.03168, -118.41898], [40.254882, -80.465379], [44.810803, -95.483551], [34.082806, -118.297847], [36.427257, -119.85135], [32.81348, -117.22131], [40.243469, -75.437725], [38.823886, -123.015183], [38.740916, -76.878693], [41.89952, -112.57896], [34.18666, -118.45093], [32.67735, -97.05524], [44.059037, -123.049507], [25.926679, -80.233637], [37.61919, -122.14821], [25.899614, -80.182822], [40.841847, -73.931609], [41.95506, -87.93958], [36.531822, -119.448621], [37.091442, -121.600595], [34.106091, -117.982719], [34.569598, -82.722087], [34.316537, -118.49026], [40.092662, -75.125423], [36.432026, -121.337311], [31.37636, -85.56979], [40.715014, -73.95178299999998], [39.486182, -123.360682], [34.15458, -118.3221], [25.634433, -80.382533], [39.534097, -119.772573], [34.067498, -117.549451], [44.262085, -94.908347], [32.499972, -93.738548], [40.5795, -74.24427], [34.506228, -117.588324], [40.253623, -75.65989499999998], [38.268467, -77.184403], [34.041057, -118.015026], [30.28759, -81.45898000000003], [29.761823, -95.285189], [34.196888, -79.70166400000002], [44.85854000000001, -93.346334], [40.807417, -74.182466], [45.91011, -118.38462], [25.953452, -80.205487], [34.144788, -117.273591], [40.804735, -73.267318], [29.76319, -95.45555], [28.368718, -81.392845], [34.067609999999995, -117.56668], [40.337272, -75.967324], [32.66607, -96.86656], [36.280763, -115.28795], [41.25634, -72.99564000000002], [39.080299, -121.57886200000002], [45.707004, -106.674148], [36.977659, -121.906624], [34.02376, -117.556996], [37.570715, -122.31423], [39.550834, -119.822784], [42.43896, -122.83751], [34.184778, -117.433579], [28.442505, -81.365963], [39.905499, -86.045301], [34.864022, -118.18484], [35.239286, -80.826911], [34.02922, -118.01246], [36.97806, -80.836426], [45.304938, -121.668902], [37.572587, -121.888493], [29.934261, -90.111399], [28.653062, -81.528886], [33.949159, -117.386223], [32.786282, -96.804732], [27.92275, -82.392128], [36.764151, -121.747062], [40.3402, -111.6068], [40.67125, -111.80512], [41.75761, -72.70055], [44.960142, -93.208833], [34.184783, -80.850471], [27.837947, -82.728421], [25.839874, -80.31509799999998], [29.656041, -95.577654], [28.149248, -82.696639], [34.068283, -118.150994], [25.94243, -80.305887], [39.945677, -111.80701299999998], [40.84887, -74.1781], [39.41885, -76.6348], [44.41535, -124.081598], [35.57984000000001, -80.8564], [38.693892, -119.987981], [34.629065000000004, -82.559251], [32.662584, -97.223441], [27.45332100000001, -80.39720799999998], [47.363058, -122.294965], [41.54551, -72.41309], [32.66731, -97.319676], [37.217051, -76.601839], [34.17193, -118.53178], [27.77217000000001, -80.55100999999998], [28.428421000000004, -81.40666999999998], [38.183604, -121.806189], [38.605743, -121.382895], [38.878742, -121.137694], [37.885527, -122.537827], [25.884161, -80.35014], [32.1268, -81.16994], [30.41821400000001, -91.071], [42.34839, -71.05756], [35.215778, -80.82212700000002], [43.965257, -116.906815], [40.400539, -120.4507], [27.9102, -82.700588], [36.99965, -121.555909], [40.60525, -80.05105], [38.856929, -76.85263], [25.844796, -80.235569], [41.79056, -72.656072], [45.442956, -122.57895], [41.71991, -87.62472], [37.25242, -122.05835], [42.590829, -73.785907], [42.72962, -71.20423000000002], [41.101881, -73.434666], [25.837086, -80.37774399999998], [40.101138, -75.100854], [38.29541, -122.034169], [38.930364, -77.11178100000002], [28.522383, -81.471112], [25.944359, -80.33625], [43.612858, -123.216809], [47.504957, -122.648309], [34.60722, -82.907788], [34.02976, -118.21342], [36.88046, -76.18806], [35.085001, -85.071159], [40.663801, -73.990484], [34.017954, -117.526696], [45.42494, -122.387252], [34.050053000000005, -118.693467], [25.62699, -80.38799200000003], [25.717067, -80.415287], [35.542799, -82.915588], [33.91228, -98.515412], [38.451664, -122.868113], [37.290615, -121.809809], [33.68744, -117.872226], [32.498154, -93.746057], [38.239574, -122.452577], [33.919544, -118.291538], [34.004605, -81.00653299999998], [34.0319, -118.417993], [42.0705, -83.25227], [35.0805, -89.87484], [44.669541, -123.058043], [34.235983000000004, -118.413371], [40.804477, -73.295384], [33.857121, -118.29924], [30.371383, -97.756568], [39.82244, -84.18934], [35.219991, -80.80671600000002], [34.216386, -118.473161], [42.74075300000001, -73.781207], [32.866504, -96.890484], [32.48233, -93.77575], [37.550763, -77.437978], [40.92773, -73.879287], [29.520513, -98.508338], [39.711451, -122.218911], [48.052395, -114.072861], [35.23443, -80.85771], [48.426672, -93.57003], [44.09726, -123.1114], [32.860923, -96.863992], [38.896691, -104.71995], [32.442017, -93.76523], [40.634508, -74.209972], [44.931562, -123.121293], [32.44785, -93.98361], [33.716043, -85.033675], [32.405068, -93.801113], [38.671345, -121.382819], [25.630294, -80.41471800000002], [44.915467, -122.988282], [34.447765000000004, -117.172652], [40.08321, -86.82394000000002], [40.494918, -78.3846], [34.030346, -117.640992], [36.172409, -119.357722], [28.47002, -81.268914], [25.926155, -80.20984], [34.471874, -118.179892], [37.5355, -122.07511], [37.60882, -113.367016], [44.97889, -93.40059], [26.45711, -80.089688], [37.528306, -121.945698], [28.480549, -81.311706], [35.25125999999999, -80.89443], [34.058777, -117.297851], [28.670341, -82.114836], [34.02324, -117.81159], [34.0481, -117.307], [35.418526, -119.06035], [27.489069, -82.46489100000002], [37.523149, -79.710305], [39.78377, -105.096181], [25.821874, -80.369742], [35.89938, -78.86995], [30.472092, -87.225115], [39.124231, -77.200528], [39.94419, -76.73323], [28.50171, -81.458862], [36.13998, -115.17497], [41.698876, -93.576253], [36.141296, -86.73185699999998], [35.094472, -81.027528], [27.950774, -82.52179699999998], [36.14786, -95.96715], [33.928571000000005, -118.289149], [43.829237, -123.031071], [43.703516, -120.297471], [40.36313, -111.56036], [38.23329, -122.61803], [38.57852000000001, -90.44659], [34.195342, -118.333112], [32.65395, -117.08932], [36.07728, -78.76953], [39.26689, -77.30564], [28.333738, -81.48962900000002], [43.223754, -77.65904300000003], [33.97163, -78.852699], [42.30604, -88.00443], [29.438531, -98.471176], [35.462011, -94.352442], [38.192447, -77.50091], [32.716673, -117.120105], [44.785991, -93.219498], [40.410763, -104.993104], [45.05668, -93.134289], [44.742468, -122.678659], [40.65882, -73.985309], [32.824452, -96.829602], [34.418224, -119.710453], [35.250852, -80.844741], [34.69004, -112.445955], [40.73718, -73.8529], [33.825153, -118.218579], [32.724002, -117.257257], [37.60226, -122.06362], [41.132812, -111.910832], [35.883482, -84.512232], [34.087195, -117.664149], [41.87385, -87.80816999999998], [33.80608400000001, -117.880329], [37.83312, -122.294587], [38.748285, -90.582588], [38.759893, -120.581568], [34.961445, -86.568202], [35.800806, -78.514813], [37.433892, -120.74026299999998], [38.939567, -94.564164], [28.613986, -81.38691700000003], [44.934171, -123.204926], [41.4153, -84.09965], [39.95332, -83.00363], [39.015103, -76.97802], [33.685559999999995, -117.331812], [45.91102, -123.69953999999998], [41.547096, -73.027001], [25.568767, -80.362812], [41.81098, -87.7636], [38.88599, -76.9558], [25.696995, -80.360815], [47.240899, -122.348932], [33.026227, -97.277558], [33.483976, -111.917374], [34.005720000000004, -117.96019], [41.62563, -87.71369], [34.059490000000004, -118.00138], [34.124187, -80.931207], [39.632009, -106.058546], [33.385855, -111.909649], [34.231219, -81.010024], [33.313068, -111.048957], [29.781178000000004, -95.368419], [33.950611, -80.971666], [45.064941, -93.16212], [30.443637, -91.175649], [39.247165, -76.817189], [35.673583, -80.856724], [39.027949, -76.854925], [37.754067, -121.453417], [38.08647, -121.27858799999998], [35.34773900000001, -119.051374], [32.839209999999994, -117.14541], [41.07039, -73.80355], [38.829992, -77.015467], [42.88105, -85.68155], [38.66348, -121.30857], [33.550483, -117.140824], [38.651795, -121.063104], [39.4613, -76.58893], [38.11992, -85.67779], [28.573432, -81.452191], [33.790447, -78.765588], [34.0263, -118.143999], [33.473699, -111.475492], [35.081394, -81.624256], [34.419811, -118.435589], [40.683253, -75.296104], [42.240168, -87.901534], [25.926223, -80.15440100000002], [34.076564000000005, -119.023697], [29.804963, -95.399256], [33.875911, -118.168782], [38.105295, -120.51885], [39.414557, -119.74688799999998], [40.75337, -73.7447], [45.378545, -122.065626], [32.891923, -117.206736], [35.848474, -119.071553], [35.136884, -76.859933], [34.067407, -117.532424], [26.678591, -80.069829], [33.882725, -117.644404], [34.023139, -117.811667], [35.766727, -78.735497], [45.16532, -123.93132], [33.730913, -78.943022], [39.658484, -84.15756400000002], [38.665039, -121.538001], [33.677718, -117.881302], [39.88232100000001, -104.98746], [34.15791, -118.64135], [38.79831, -90.5969], [35.21505300000001, -80.88271999999998], [41.917659, -74.044021], [43.192636, -77.55080799999998], [35.05509, -85.310762], [35.01324, -81.9059], [25.554936, -80.39263000000003], [45.175781, -121.675799], [40.704774, -73.816889], [44.39903, -95.2691], [34.311844, -117.474694], [45.616461, -123.199063], [38.88968300000001, -77.419454], [25.899574, -80.183715], [40.07004000000001, -86.49723], [40.404163, -74.19609100000002], [32.23892, -110.875493], [34.01794, -118.147018], [25.62749, -80.37989], [43.074835, -83.682702], [37.836427, -122.011894], [31.03715, -104.86737], [35.15282, -80.87631], [30.21575, -97.74408], [32.625089, -96.823017], [40.429687, -74.436148], [44.687206, -117.675046], [38.416081, -121.97219], [42.22248, -85.78996], [37.830669, -122.293345], [45.33418, -95.91164], [35.37573, -80.196116], [40.868035, -77.783664], [34.133883000000004, -117.21754], [42.919989, -83.69121899999998], [34.14806, -118.27957], [33.940812, -117.266124], [45.053654, -93.057729], [38.271895, -122.671219], [35.106848, -106.653797], [37.703768, -122.055338], [37.677471, -77.449688], [32.198663, -86.415592], [25.763272, -80.38557800000002], [28.566762, -81.286012], [39.3223, -76.63173], [45.31204, -121.797045], [34.072367, -117.917226], [40.60154, -74.060994], [33.87932, -118.28524], [37.66366, -122.10616], [30.175561, -97.79847], [34.012615999999994, -117.82402], [40.304215, -78.920137], [25.948113, -80.184294], [34.047162, -118.317613], [41.58184, -87.24396], [44.028529, -92.636718], [44.042032, -123.049641], [38.559145, -121.187196], [41.283639, -72.950999], [37.174571, -93.271613], [33.781768, -81.486786], [37.703615, -122.060683], [38.171445, -121.592768], [36.992436, -80.796922], [38.721241, -120.833457], [37.627371, -122.081243], [25.664064, -80.324629], [28.069247, -82.4499], [47.562893, -122.386783], [33.887597, -118.103317], [42.21887, -88.05796], [43.90387, -93.2769], [34.071816, -117.768619], [26.797724, -80.131691], [25.950382, -80.12554200000002], [45.77683, -120.06148], [43.664401, -94.127525], [41.31856, -72.899211], [34.264534999999995, -118.472046], [42.23962, -88.00036999999998], [28.01506, -82.73679], [40.075517, -75.356973], [35.65546, -97.4239], [38.604143, -121.382886], [34.200833, -118.966111], [37.701577, -121.872176], [30.493639, -91.15521], [28.259693, -81.622977], [33.69012, -117.7683], [37.654105, -122.490617], [40.64147, -111.888991], [33.166566, -80.360351], [35.28874000000001, -89.68705], [36.328009, -119.611693], [33.561859000000005, -80.827023], [34.253887, -119.213412], [36.738838, -119.777695], [33.980487, -118.392223], [33.999883000000004, -117.848773], [39.79966500000001, -75.65729499999998], [32.7804, -96.77682], [37.421532, -121.93466200000002], [26.330517, -81.80828299999997], [42.987288, -78.915272], [43.73171, -84.49304000000002], [33.3577, -111.89426], [38.423198, -122.775074], [26.064879, -80.235101], [37.673968, -77.44838100000003], [40.776712, -74.043216], [40.715836, -73.813351], [25.702581, -80.329039], [26.06606, -80.21554], [29.953135, -95.673509], [30.195143, -97.738803], [26.533790000000003, -80.07359], [33.846022999999995, -118.220451], [33.850767, -117.932222], [34.022178000000004, -117.337176], [38.34445, -121.629254], [37.31909, -121.99187], [37.49741, -77.546044], [37.503571, -122.484422], [37.72444, -122.44754], [37.704262, -122.157769], [34.077197, -117.524024], [37.55267, -77.47549000000002], [42.206517, -121.72271299999998], [37.822897, -122.319036], [47.610262, -122.331383], [33.599938, -117.10105], [35.075965999999994, -89.980913], [34.033239, -118.169146], [37.72007, -121.65876000000002], [33.990272, -117.91936], [34.214117, -118.351081], [35.091297999999995, -85.331024], [38.39415200000001, -81.83028399999998], [33.189446999999994, -87.305971], [34.008324, -117.968642], [45.60188, -121.1447], [35.167363, -80.742918], [32.814370000000004, -117.11489], [41.62441, -87.05003], [36.743549, -119.81006], [40.98319, -74.07158000000003], [34.01891, -118.174646], [40.00996, -75.06437], [34.2919, -118.411745], [29.85026, -95.56328], [29.82103, -94.9046], [29.983092, -90.054417], [30.032039, -90.336531], [32.192033, -86.419197], [32.339512, -86.226724], [38.441635, -105.534696], [29.673214, -95.444178], [33.948434000000006, -118.385943], [28.240472, -82.33296700000002], [42.96759, -76.84796999999998], [42.381078, -83.43709], [42.230491, -76.378725], [38.933969, -94.520713], [44.77949, -71.58304], [30.404702, -91.059625], [39.869938, -75.101241], [33.81547, -118.18503], [40.397146, -80.104097], [33.98342, -117.366596], [38.206731, -122.256012], [35.916782, -78.777244], [37.94929000000001, -121.3019], [38.688708, -121.352256], [38.74097800000001, -121.272712], [32.908526, -80.026849], [29.097942, -81.068653], [35.186072, -85.246528], [33.48023, -112.04764], [42.290755, -83.444144], [40.469338, -74.292684], [37.677054, -122.116244], [25.98343, -80.16565], [39.475518, -76.2721], [42.335619, -83.129223], [33.46585, -112.1], [33.70345, -84.16691], [40.43008, -112.37881000000002], [33.88469, -117.52153], [39.18218, -94.58836], [39.72558, -105.022643], [38.650964, -121.370784], [39.153546, -76.649712], [30.46852, -88.41469000000002], [25.943271, -80.181217], [34.15237, -118.103635], [38.66310900000001, -90.570849], [47.37491, -122.24405], [29.67786, -95.41142], [32.804392, -80.770229], [28.598171, -81.26505], [47.158888, -122.31299], [33.771575, -117.831126], [44.59496, -123.59804], [35.125214, -118.494873], [34.136227000000005, -117.495785], [32.693670000000004, -117.123345], [34.333855, -112.120082], [42.575916, -114.157959], [41.410785, -73.45326999999997], [43.142366, -77.591116], [34.03946, -81.093755], [25.826215, -80.317094], [45.037454, -93.04863], [41.78113, -87.63078], [32.006215000000005, -110.139626], [34.232566, -118.40821], [44.943726, -93.274591], [37.104091, -79.942862], [30.43541500000001, -91.024292], [34.028438, -118.214722], [34.08747, -117.64564], [32.864233, -96.661474], [48.050002, -98.643574], [38.449288, -122.725969], [40.229608, -75.261892], [34.542324, -82.72036], [34.03347, -118.27488999999998], [38.804607, -75.272775], [33.965412, -118.165024], [33.417589, -117.604269], [29.282146, -98.660428], [40.835132, -73.866582], [44.89147, -122.99371], [38.478543, -121.427476], [34.282033, -118.737222], [34.06768, -117.58898], [47.589817, -122.320981], [39.03398, -76.851924], [33.263584, -117.245121], [37.65784, -122.40583], [34.01873, -118.17352], [28.54782, -81.310601], [25.881811, -80.226656], [28.494814, -81.310118], [37.597531, -77.617796], [32.71328, -117.14226], [37.951068, -121.285293], [37.329024, -121.841791], [45.42239, -123.075303], [39.524, -86.88289], [33.904148, -118.064625], [33.9655, -117.85082], [36.781483, -76.284187], [25.68481, -80.3664], [34.028252, -117.550052], [34.029736, -118.212672], [34.064902000000004, -81.04334200000002], [39.957014, -75.15545], [46.598724, -123.159578], [32.619068, -117.092106], [34.991625, -80.85361], [32.788470000000004, -117.1483], [42.93656, -78.76644], [38.894101, -77.014042], [33.906359, -118.37033999999998], [43.604897, -116.334367], [25.904757, -80.241888], [37.874502, -122.306023], [25.657446, -80.384281], [42.244059, -122.771648], [34.117494, -117.855059], [44.964992, -93.282257], [41.84314000000001, -88.06300999999998], [34.886885, -82.18620200000002], [38.714313, -121.407605], [33.945418, -118.327851], [35.552111, -81.268433], [34.04064, -118.0361], [30.504657, -87.281], [39.175837, -84.267364], [37.61643, -122.15723], [25.925341, -80.153943], [41.112395, -76.784166], [33.60531, -112.2987], [28.553195, -81.36791099999998], [38.779719, -121.270192], [35.104198, -80.989193], [40.20982100000001, -75.237303], [27.802175, -82.709071], [29.963438, -90.094311], [25.731657, -80.317135], [43.031548, -77.82733], [40.84005, -73.92905999999998], [30.43987700000001, -91.128154], [33.080809, -117.103363], [43.019672, -83.698295], [45.623248, -122.863808], [33.93762, -118.097512], [40.806258, -74.18351700000002], [38.927388, -94.757872], [37.61718, -122.154934], [41.46658400000001, -122.448377], [40.84524, -73.92778], [26.09198, -80.222492], [33.00827, -111.757386], [38.57252, -121.505739], [36.925589, -76.26944300000002], [34.120818, -118.270994], [35.43939, -97.51617], [42.24236, -83.195669], [40.730212, -112.590175], [36.53262, -78.19269], [25.897446, -80.235396], [33.16887, -117.217351], [28.577281, -81.416306], [30.43551, -88.65195], [37.826947, -122.286155], [45.824175, -118.42025], [38.834688, -77.097972], [45.011533, -122.993005], [40.82645, -81.39675], [44.96653, -93.27712], [39.872592, -75.078409], [34.030373, -117.689518], [34.073301, -118.813649], [35.016875, -85.181907], [33.094212, -80.087372], [30.541848, -91.010552], [42.983205, -85.676587], [41.091302, -78.51728], [44.860771, -93.475488], [41.567422, -87.317447], [43.24385, -96.177567], [38.8946, -76.95302], [28.41965900000001, -81.404622], [39.781156, -84.16068100000003], [45.593421, -92.99582], [38.633321, -77.319629], [37.952867, -122.327994], [34.65218, -82.38947399999998], [33.912961, -118.179892], [37.688669, -122.134889], [46.592212, -112.570885], [40.90726, -77.875454], [42.79449, -78.77625], [38.941915, -121.09716], [35.7953, -78.51783], [40.025997, -78.376938], [40.72574, -112.011897], [36.183318, -120.699785], [33.515061, -86.823708], [34.032740000000004, -117.13737], [25.985417, -80.149902], [34.107633, -118.761406], [33.221726000000004, -117.245317], [44.985412, -93.241145], [34.96305, -80.00943000000002], [34.187034000000004, -117.355393], [34.35537, -117.438961], [31.323751, -89.360294], [26.0841, -80.19298], [34.579074, -82.55278299999998], [39.75524, -86.143637], [34.019513, -118.230045], [33.859534000000004, -117.922013], [30.434782, -91.057495], [32.84189, -117.12577], [43.976454, -124.069748], [27.799341, -82.65491800000002], [38.866184, -77.065647], [36.474984, -121.471141], [38.524757, -121.46745], [33.566006, -112.257359], [33.45892, -117.655966], [34.043824, -80.991258], [33.4514, -112.0738], [32.133937, -110.96261], [44.24799, -121.04656], [36.697778, -121.664575], [35.694931, -118.465491], [35.698456, -78.59191], [25.710345, -80.282135], [27.772025, -80.551011], [38.29023, -85.64494], [33.745418, -117.833615], [34.028201, -118.426541], [39.002097, -77.434912], [40.75016, -73.90433], [32.713062, -96.829669], [39.01381, -77.053752], [40.23103, -75.5221], [42.869574, -73.820453], [40.68258, -73.66615], [33.98217, -81.26268], [44.21248, -88.17371999999996], [33.80271, -84.38578199999998], [28.843821, -81.310683], [41.042572, -73.836697], [34.816047999999995, -83.011094], [25.944556, -80.245577], [37.215537, -93.282303], [42.117923, -88.423622], [47.43798, -122.26947], [43.158758, -77.431606], [30.42847, -91.171342], [38.229722, -122.116944], [33.980034, -81.27944699999998], [39.939759, -75.014759], [41.05712, -77.269002], [37.329693, -121.842028], [33.385940000000005, -111.87398], [41.246276, -77.003823], [41.91741, -87.70696], [34.135335999999995, -117.97446200000002], [40.261459, -74.843152], [37.804352, -77.460178], [33.778895, -117.877272], [39.037631, -94.499981], [40.17889, -76.83705], [38.990911, -94.50243], [45.25134, -118.02015], [33.816585, -84.362921], [35.27104, -80.79411], [42.231155, -91.870905], [27.44771, -82.57539], [28.876140000000003, -81.28299], [37.95368300000001, -121.290009], [36.081701, -86.760088], [25.732578, -80.35974300000002], [36.92362, -76.270302], [40.83870200000001, -74.018529], [38.004702, -121.257487], [26.752341, -82.038656], [39.725675, -105.064834], [37.99184, -122.06768], [28.567463, -81.292609], [33.92763, -118.300305], [39.037729, -94.556015], [33.89275, -117.88081], [47.546134, -122.326681], [26.533790000000003, -80.07359], [39.092237, -121.147276], [34.030288, -117.700593], [35.789347, -78.663041], [33.971808, -117.54904], [34.145015, -118.167602], [37.117463, -93.497893], [43.897343, -122.74062], [45.028829, -92.785322], [33.91642, -118.26525], [25.747759, -80.334029], [35.255939, -80.987201], [29.973825, -95.421012], [26.5453, -81.852391], [34.669429, -118.764642], [34.351376, -79.849654], [25.768632, -80.366883], [28.505539, -81.24566800000002], [38.664199, -121.253281], [40.974897, -73.711077], [41.85314, -87.61465], [43.18084, -77.59918], [41.150375, -73.248499], [30.079082, -95.421015], [32.55283, -93.811592], [33.96575900000001, -118.164984], [28.683835, -81.471855], [30.37936, -91.06128], [38.255638, -122.816081], [46.095458, -123.106066], [32.699721999999994, -117.094699], [30.444233, -91.036124], [28.45158, -81.22036999999997], [33.374886, -117.560564], [36.624016, -80.731844], [41.670005, -108.934335], [43.13881, -77.552693], [33.82539000000001, -118.22382], [33.865109000000004, -84.28797800000002], [29.650432, -82.36412800000002], [39.344031, -78.31947199999998], [33.570083000000004, -84.327706], [37.032844, -76.381468], [41.89446, -87.6563], [32.586082, -117.120705], [37.957095, -121.240232], [36.794502, -78.45273900000002], [45.400838, -92.652663], [25.78125, -80.34416999999998], [37.686219, -77.452014], [45.300591, -93.797721], [25.656495, -80.41090600000003], [44.180759, -93.967361], [40.74159, -111.90325], [36.651289, -78.480837], [45.147598, -122.78026], [45.470062, -122.688611], [41.88516, -88.19275999999998], [43.50136, -83.93095], [46.772536, -95.109507], [34.03485, -118.33596], [26.111992, -80.250433], [39.983736, -76.71894], [34.004214000000005, -117.350154], [36.259883, -86.713026], [40.851604, -73.952048], [34.086509, -118.30313], [30.448613, -91.180467], [38.855242, -120.013733], [43.50293, -123.32068], [28.686356, -81.388508], [33.912402, -84.383765], [40.10455, -78.52820200000002], [32.796763, -96.68816], [28.452882, -81.47081700000003], [33.744797, -117.980001], [34.422374, -117.486241], [34.210697, -79.74815799999998], [33.74479, -117.27929], [38.817598, -77.443823], [36.051259, -119.161167], [34.500462, -82.670517], [33.5276, -112.11241], [34.55876, -79.40100799999998], [41.422029, -77.027024], [33.61083, -112.12268], [29.656756, -95.570765], [33.96638, -118.164896], [36.10447, -95.83231], [43.231668, -77.73357299999998], [47.63967, -122.1867], [32.365623, -86.282175], [33.611263, -117.703812], [37.663343, -122.105623], [25.694135, -80.312167], [39.696961, -86.182197], [33.701981, -116.121198], [34.229613, -82.142667], [40.7497, -111.90969], [38.025932, -121.2322], [33.621631, -117.938686], [34.576127, -81.60023000000002], [33.77871, -117.89506000000002], [44.80634000000001, -95.556832], [38.418141, -81.631599], [32.865611, -96.811083], [40.6664, -73.80175], [33.873152000000005, -118.072616], [33.811495, -117.509561], [36.894289, -76.493822], [38.717641, -121.315521], [41.512385, -73.78784499999998], [28.436222, -81.368369], [32.919255, -96.853534], [45.687149, -121.706467], [30.464529, -87.249085], [32.416528, -93.693657], [33.385809, -111.914731], [40.730942, -74.125388], [27.996135, -82.482807], [42.70435, -82.7777], [40.15922, -83.22901999999998], [35.76786, -78.516098], [37.01051, -121.953142], [45.442946, -122.743614], [33.133156, -97.042928], [35.23302, -80.876244], [34.755517, -117.163428], [39.48436, -119.85221], [32.742691, -96.758869], [33.668395000000004, -112.070223], [33.662012, -112.113257], [32.750534, -96.767956], [45.40424, -122.7446], [39.555431, -107.335634], [34.153341999999995, -118.377021], [32.443774, -93.946655], [25.686803, -80.35121], [41.113961, -74.162017], [34.082366, -117.54495], [34.148272, -81.080235], [32.726092, -96.918066], [36.841524, -76.286069], [37.582501, -77.46991], [30.00989, -90.02086], [40.633226, -111.892549], [37.644792, -77.61043599999998], [41.21119, -73.2621], [39.898764, -86.311306], [34.438051, -119.78174], [33.522853000000005, -117.162995], [39.018945, -77.008505], [28.53178, -81.41401], [33.462086, -112.019653], [36.204026, -121.133917], [42.38093, -83.091562], [40.777335, -73.942621], [39.740327, -104.82522], [47.57935300000001, -122.19763600000002], [38.953624, -77.367385], [41.86236, -88.09196999999998], [40.337377, -79.74651800000002], [34.06168, -117.182503], [28.77791, -81.275306], [30.53704, -84.5901], [38.63146500000001, -76.058872], [38.558739, -121.474102], [32.67436, -97.149059], [34.25948, -78.08008000000002], [37.65409, -77.4356], [34.001991, -118.066457], [33.804334999999995, -118.20737], [35.213713, -80.805134], [45.444055, -117.282325], [28.267453000000003, -81.606714], [43.52691, -123.306429], [29.82066, -81.376901], [32.722345000000004, -117.129331], [29.920869, -90.114974], [45.10442000000001, -93.46015], [32.65308, -117.06956], [33.638413, -86.619592], [40.763262, -73.860938], [39.024565, -122.062997], [37.819472, -121.993079], [28.56703, -81.209618], [34.07584, -117.62046], [35.20897, -80.82284], [30.185228, -81.702619], [34.257684999999995, -111.253731], [33.46167, -112.03669], [29.89766, -95.449118], [39.825281, -123.190532], [39.14537, -84.61317], [33.725021000000005, -84.900706], [44.320537, -93.299575], [42.26649000000001, -88.07851], [40.39633, -80.10342], [44.13658, -69.94313000000001], [32.760748, -96.744298], [34.111036, -118.24796299999998], [34.146019, -81.23833499999998], [39.75099, -76.024225], [40.237214, -74.803134], [33.796777, -117.831173], [42.247334, -73.887702], [38.060166, -78.943003], [45.514869, -119.632006], [29.7302, -95.45506], [32.898687, -96.715024], [38.231958, -77.49838000000003], [25.729025, -80.41768], [29.55801, -95.15852], [38.123018, -122.230052], [28.952676, -81.25867], [41.82555, -71.418286], [36.99018, -121.929643], [37.99042, -122.06747], [38.474695, -122.728698], [40.777806, -74.057539], [39.752751, -86.220349], [33.769406, -84.23281800000002], [43.74884, -123.17621], [33.553149, -81.93554], [30.252996000000003, -97.712819], [39.77537, -104.86073600000002], [26.022166, -80.167162], [33.614121999999995, -117.866393], [45.577178, -122.70901200000002], [34.03309, -118.14486], [25.49967, -80.446028], [44.234143, -95.258148], [34.214205, -80.977064], [30.387503, -97.649666], [34.066489000000004, -117.234474], [37.975476, -122.063802], [34.043294, -118.272982], [25.74541, -80.3197], [41.02768, -111.344064], [40.299732, -76.28056], [29.72941, -95.44641], [45.03231, -92.9674], [28.591108, -81.476141], [28.260589000000003, -81.436267], [25.71606400000001, -80.41524], [40.046012, -80.644615], [25.926693, -80.23305699999997], [32.165291, -111.092998], [41.23597, -74.032627], [38.701999, -120.672457], [40.73808, -74.21733], [38.99114, -77.157126], [30.174694, -97.780873], [45.04322, -123.20711], [33.988858, -118.291463], [40.732169, -73.84304499999998], [37.609433, -120.993349], [37.062774, -76.42314], [33.561719000000004, -111.88303799999998], [45.311515, -121.890253], [38.65254, -76.99341700000002], [38.79826, -77.56944], [28.60165, -81.38599], [34.12107, -117.9032], [32.114928000000006, -111.107173], [32.905099, -97.099258], [40.764619, -111.98652], [29.60029, -95.32652], [40.609856, -75.53088699999998], [39.0259, -77.62089], [39.14507, -76.64488399999998], [37.396166, -121.907568], [43.981667, -121.613455], [27.960616, -82.723151], [39.861179, -75.352166], [33.84788, -117.856112], [40.518773, -111.411665], [43.002011, -83.772697], [37.869276, -122.291182], [44.948747, -92.896931], [34.072422, -117.926685], [34.029168, -118.005299], [35.707317, -81.638664], [25.564135, -80.37219], [45.531047, -122.66518], [29.729275, -95.435437], [37.03426, -77.65796800000003], [35.208889, -119.163056], [39.993107, -75.08171], [45.37638, -92.88204], [39.943691, -75.27405], [25.908899, -80.236072], [33.99, -118.39558], [28.468277, -81.474837], [42.980394, -121.82645], [41.69531, -92.45206], [39.005852, -77.074016], [39.861048, -75.147868], [38.550579, -121.473864], [33.75397, -84.74179000000002], [35.18786400000001, -119.43923], [25.6262, -80.41432900000002], [33.987756, -118.391058], [39.205139, -121.205086], [33.457678, -112.338402], [41.453465, -91.550263], [32.718692, -96.616776], [34.595889, -86.562135], [35.901353, -78.678813], [39.047588, -94.442821], [25.672135, -80.37315600000002], [41.88261, -88.26424], [40.19814, -74.75278], [25.882919, -80.229298], [34.021263, -118.27844], [40.085404, -82.907442], [36.697778, -121.664575], [39.117497, -77.194715], [45.509561, -122.728204], [45.556077, -122.678525], [41.72734000000001, -87.62431], [33.748119, -117.832383], [32.886034, -96.731814], [34.064575, -118.000208], [30.428269, -87.270011], [26.00526, -80.16714], [40.86192, -74.36099399999998], [34.074171, -117.295607], [32.64830300000001, -117.061919], [38.61477, -121.51249], [25.701207, -80.364476], [40.78674, -74.14832], [26.57806, -80.06947], [44.42145, -121.87819], [30.485826, -81.64263299999998], [41.92287, -87.67877], [44.94906, -93.274606], [38.390232, -85.76136899999999], [34.123090000000005, -117.69455], [25.931894, -80.203648], [39.00766, -77.02011999999998], [43.020922, -85.634001], [29.904805, -90.065198], [40.10929, -75.296], [39.34529000000001, -76.49358000000002], [34.770829, -112.453002], [36.547179, -119.700703], [37.079726, -94.171532], [36.922694, -121.8406], [34.379278, -117.41810900000002], [27.771044, -82.67530500000002], [34.266024, -118.465672], [37.66937100000001, -122.101639], [38.54385, -121.47376], [28.451938, -81.400468], [35.71888, -78.63799], [40.61622, -74.02611], [35.084178, -85.317514], [33.97472, -118.238085], [38.007276, -121.352249], [36.04665, -86.66141999999998], [39.15235, -84.44327], [26.544801, -81.852424], [34.084824, -117.217462], [37.9176, -78.84015], [33.381349, -117.242795], [32.408115, -93.698318], [34.864479, -118.163548], [35.084337, -120.53038], [42.659697, -122.698567], [40.867892, -73.02374300000002], [35.34852, -97.58804], [45.308919, -121.832412], [38.59385, -121.50407], [37.366547, -79.927524], [33.202408, -87.568332], [32.89218, -96.76912], [33.702009000000004, -80.247863], [44.54555, -122.98897], [33.825176, -118.221849], [42.47726, -83.10555], [42.211672, -121.601089], [36.527382, -119.572821], [35.274879, -80.69311], [29.785129, -95.694009], [25.943451, -80.30708800000002], [37.744084, -122.405492], [37.61663, -122.1559], [29.981948, -81.45917], [43.1777, -76.0695], [33.17965, -80.37615], [36.636505, -120.620717], [25.760888, -80.39667299999998], [32.84731, -96.63781], [38.9197, -76.933178], [39.094707, -76.627061], [45.76560300000001, -119.218427], [37.495555, -121.923019], [39.784897, -77.704351], [41.90906, -87.92896], [44.73208, -92.477232], [41.03042, -73.72394], [36.965727, -121.409831], [36.022216, -119.039629], [39.299334, -76.530713], [47.46234000000001, -122.25001], [28.565372, -81.195601], [37.81904, -122.25362], [43.644596, -73.799573], [29.56811, -98.33503], [36.169702, -86.58529899999998], [42.196213, -122.67497], [40.337327, -79.62498000000002], [33.480662, -112.106407], [33.93096, -118.34567], [44.426256, -121.877935], [39.03857, -94.67858], [34.088604, -118.475449], [33.42709, -117.148515], [34.067412, -117.534881], [40.889879, -74.13124599999998], [41.360193, -73.19251899999998], [32.338859, -90.160509], [39.021821, -94.692], [32.894683, -80.098395], [33.909248, -81.205487], [35.065017, -80.846267], [40.785702, -73.98376800000003], [41.729321, -72.755455], [36.15300300000001, -86.633477], [36.561949, -87.250789], [40.82675, -73.854078], [40.20561, -74.76082], [39.10614, -94.74294], [32.81062, -96.807096], [42.430059, -123.061828], [37.360657, -121.915982], [30.01526, -95.42808], [33.554751, -117.192483], [37.743907, -122.199152], [26.59143, -80.068928], [35.80638, -78.810292], [43.650554, -92.949849], [41.92313, -86.03246999999998], [33.765706, -117.960142], [28.149407, -82.697023], [25.925283, -80.28254100000002], [37.968118, -84.501899], [25.930028, -80.188337], [34.85986, -82.25686800000003], [34.091962, -117.991659], [41.31986, -73.97959], [41.892435, -87.642725], [45.53809, -118.45722], [40.798604, -73.923638], [38.594452, -121.177851], [34.57156, -87.01446], [32.759909, -97.108831], [35.26091, -80.84269], [40.113794, -75.172676], [45.636439, -120.92126100000002], [37.35088, -121.83811], [45.532972, -122.632405], [37.864078000000006, -78.00556], [27.951946000000003, -82.511905], [37.58146, -77.46936], [45.20873, -122.95917], [40.201488, -78.01759799999998], [28.406704, -81.390748], [34.173162, -118.535988], [41.89748, -87.6589], [38.510429, -121.452765], [42.750977, -73.71758299999998], [39.69503, -78.14715], [42.148902, -71.214467], [38.769882, -94.677869], [28.357427, -81.49825799999998], [36.965558, -81.07915200000002], [34.383781, -119.38857], [44.75919, -93.2481], [30.341716, -97.718093], [28.258775, -82.69912], [38.739788, -77.190556], [41.4246, -81.56483], [40.15031, -76.238453], [40.641855, -74.288891], [40.788937, -124.139675], [39.13647, -121.144804], [32.841359999999995, -117.10252], [34.154720000000005, -118.28857], [37.45391, -120.801928], [35.169809, -92.717274], [43.200502, -124.23591100000002], [33.457048, -112.22096100000002], [38.824773, -104.836016], [39.344304, -77.076977], [33.97867, -118.07803], [34.644345, -86.566654], [33.91631, -118.18983500000002], [38.960019, -76.86617700000002], [38.5746, -121.381398], [34.500997, -117.148692], [28.53926400000001, -81.255852], [26.617605, -81.741146], [38.522709000000006, -121.52181000000002], [34.080647, -118.650634], [34.10657, -118.25585], [30.43015, -81.57575], [38.612648, -90.200465], [42.445646, -122.745212], [44.270241, -121.5122], [39.06850900000001, -76.65033199999998], [25.64397300000001, -80.332115], [37.25810300000001, -121.963133], [38.053523, -78.868886], [33.551693, -117.672981], [44.8476, -93.24732], [34.49213, -118.62088], [32.838381, -117.172654], [48.358786, -114.307524], [38.976689, -77.40906600000002], [33.982358000000005, -118.286454], [36.077075, -86.694672], [43.092166, -76.10679], [25.685389, -80.38453], [32.199753, -110.80615], [37.580211, -120.773917], [33.974747, -118.24766499999998], [38.04587, -120.52592], [33.939181, -117.155274], [45.53727, -122.69754], [35.282739, -93.156643], [35.12327, -118.407277], [40.551984, -123.165139], [38.654164, -76.87824], [36.076417, -80.383773], [35.59465, -97.6207], [38.798736, -77.200356], [33.85389, -117.92903], [37.25555, -121.86725], [30.612348, -87.045999], [33.864187, -118.285127], [35.83721, -78.61319], [42.93656, -78.76644], [32.749520000000004, -117.12305], [38.22257000000001, -121.42811], [35.266987, -118.906281], [25.98798, -80.16579], [35.24339699999999, -80.91394100000002], [27.302439, -82.514206], [35.710109, -78.837967], [27.838787, -82.381647], [34.02962, -118.401843], [37.665694, -121.416101], [38.911417, -77.009106], [44.96601, -93.46014], [38.474344, -121.416669], [39.781333, -105.133999], [40.060844, -79.18966999999998], [42.83045, -74.01113000000002], [42.49073, -83.28260999999998], [40.71902, -73.94596], [33.499713, -112.266596], [37.59116, -122.36329], [28.08519, -80.62164], [34.402629, -118.706235], [45.33993, -93.00469], [34.682883000000004, -118.165308], [30.321249, -81.701277], [35.79555999999999, -78.51341500000002], [33.799042, -112.065407], [39.750069, -75.376285], [34.193177, -112.131245], [30.412575, -84.289803], [28.450351, -81.437753], [33.461948, -112.094075], [38.017951, -121.894061], [39.187893, -120.937862], [33.912953, -118.128331], [34.186639, -118.473991], [45.49932, -122.67282], [25.538942, -80.372072], [29.920645, -90.086382], [40.624061, -74.216068], [34.013671, -117.98267], [43.036033, -71.454833], [47.79326, -122.21048], [43.590316, -116.283025], [47.784527, -92.364124], [39.101341, -77.040767], [33.921052, -79.65000400000002], [35.797654, -78.56290200000002], [41.159811, -73.86094], [45.450425, -122.572449], [35.361364, -119.03963], [38.410863, -121.389431], [28.360158, -80.692071], [37.36404, -121.90178], [40.43916, -79.86165], [38.674298, -77.240188], [25.941959, -80.313417], [32.824643, -96.668115], [41.199725, -122.279001], [34.147908, -118.031477], [36.16555, -86.61322], [30.44251, -88.72091999999998], [34.065342, -117.226211], [34.237655, -81.002746], [38.870776, -77.1518], [26.390594, -80.098787], [44.420567, -108.049217], [36.70303, -119.699841], [40.245741, -76.88242], [38.598328, -121.473652], [43.655732, -73.80127], [34.962776, -118.937998], [35.30505, -80.85837], [26.00348, -80.21613], [32.309743, -95.27316], [44.88988, -93.28328], [40.654651, -111.901566], [29.67697, -95.5599], [37.986333, -122.525134], [38.56205, -121.336236], [39.03958400000001, -94.346577], [42.32059, -88.00466999999998], [44.44577, -121.97017], [34.023576, -118.243007], [28.254140000000003, -81.620287], [30.01683400000001, -97.857984], [33.93819000000001, -118.35913700000002], [35.375984, -118.931871], [34.049316999999995, -117.305256], [39.207092, -104.86175], [25.826286, -80.321845], [38.831697, -77.202781], [31.786117, -81.61026], [26.427344, -81.775842], [33.632726, -117.725673], [25.807486, -80.231981], [28.449913, -81.48089499999998], [33.125122999999995, -86.742011], [30.026396, -95.428985], [35.252112, -89.684325], [38.031069, -120.240177], [41.103516, -112.002507], [43.2276, -77.54683], [44.97016, -93.442966], [40.129533, -122.23676100000002], [38.91867, -76.947973], [39.098495, -94.601549], [41.082027, -77.55519100000002], [39.20583, -76.68930999999998], [35.03845, -85.184427], [39.14649, -76.76980999999998], [37.86397, -122.30276], [25.582451, -80.39130300000002], [40.85368, -73.96266700000002], [40.8227, -74.12556], [40.686568, -73.613301], [39.409621, -75.661886], [44.887551, -122.923353], [37.75366500000001, -77.458025], [41.073814, -85.30895500000003], [37.89739, -122.0817], [44.86649, -117.81671], [38.880523, -94.676237], [37.699564, -120.99452], [34.497487, -117.76516399999998], [40.975517, -76.03379100000002], [37.48768, -122.20653], [35.22484, -80.86165], [44.86228, -93.2535], [28.027781, -82.21593399999998], [29.326254, -98.423606], [30.407279, -97.668107], [40.114832, -111.698658], [40.643569, -74.633688], [30.18523, -97.69065], [38.901122, -77.018934], [45.50724, -122.74586], [41.23917, -95.96037], [28.487157, -81.42790500000002], [41.766256, -72.687733], [45.24918, -122.723304], [39.955799, -75.180633], [41.961625, -91.780804], [33.990938, -117.90527], [26.331927, -80.117374], [25.883921, -80.20652199999998], [25.751062, -80.205076], [33.975895, -117.37188], [34.195342, -118.333112], [39.947321, -75.584055], [41.52826, -87.31474], [35.014375, -85.337402], [38.108905, -122.508585], [33.45799, -112.347057], [39.284438, -76.735551], [34.164894, -118.383125], [34.022496000000004, -117.550093], [45.19491, -93.55286], [39.341271, -76.51355600000002], [34.0277, -117.1247], [33.844002, -117.535107], [37.053144, -120.17043], [28.494552, -81.395985], [36.233982, -86.815205], [43.809174, -117.662791], [47.10274, -122.59617], [38.592939, -121.551726], [30.363425, -91.060193], [36.220031, -86.774774], [29.68477, -95.3441], [36.982176, -121.965895], [41.13653, -95.904095], [25.955656, -80.205729], [35.453363, -94.439131], [41.770057, -72.67489499999998], [40.025135, -76.332471], [45.11438, -122.871404], [37.463096, -122.145202], [33.853433, -117.255625], [25.841924, -80.22529200000002], [36.733868, -76.238947], [39.74502, -84.11738000000003], [41.696282, -92.571947], [32.828212, -96.824393], [25.844254, -80.31425899999998], [33.79741, -111.491714], [38.707485, -120.76345], [38.539564, -76.984308], [38.668112, -122.588344], [42.983925, -76.306928], [26.238173, -80.13636899999999], [36.17215, -86.7686], [34.07145, -117.86818999999998], [39.98168, -82.82373], [41.64467, -85.17475], [29.517578000000004, -95.38705], [39.064646, -95.736097], [44.509364, -92.919765], [40.71402, -74.28184], [40.32223, -75.3317], [34.060539, -118.215215], [34.084946, -117.41392], [32.826315, -96.624934], [30.572201, -87.28393], [33.876717, -118.156688], [35.153062, -80.796031], [34.028343, -117.331035], [33.872534, -117.665006], [38.183743, -121.835067], [29.768602, -95.342511], [33.974732, -118.238982], [33.54711, -84.57758000000003], [45.645135, -123.346735], [37.54343, -122.0203], [32.898941, -117.218869], [30.390025, -91.166374], [39.84577, -75.71141], [33.466327, -117.668691], [30.831737, -97.600951], [37.476856, -120.630745], [38.644324, -121.067838], [40.20310300000001, -76.87033199999998], [40.11457, -75.45429399999998], [35.094858, -81.02933], [46.410058, -94.097251], [45.04223, -93.40073], [37.749657, -122.403524], [39.11963, -77.08075], [41.319161, -72.89386800000003], [39.32692, -76.52593], [34.7932, -82.25625], [35.143615999999994, -80.83425], [40.634435, -74.19508], [33.594982, -112.237782], [33.794396, -117.831055], [33.78487, -84.24601], [29.757713, -95.558121], [38.50834, -121.45884], [38.962085, -94.359051], [39.032874, -94.36122], [45.0, -93.089415], [39.19232, -84.47816999999998], [30.42847, -91.171342], [33.759228, -117.861328], [29.77556, -95.29769], [42.213687, -121.831257], [29.106990000000003, -82.020565], [38.43268, -122.71608], [28.341482, -81.484101], [34.044195, -118.170865], [33.931552, -118.39602], [45.80266, -119.38416], [37.758023, -121.496195], [33.365272999999995, -117.075541], [40.778481, -74.048445], [45.60701, -121.19483], [25.814816, -80.337459], [34.148053999999995, -118.085476], [28.373642, -81.405992], [45.398141, -107.371402], [43.652275, -94.936262], [32.950047999999995, -96.823335], [34.120525, -118.271039], [34.879228999999995, -117.10438700000002], [46.896976, -103.194998], [25.687153, -80.362493], [41.002401, -80.392861], [39.007247, -94.501358], [32.768159999999995, -96.705101], [29.769806, -95.478161], [37.648415, -77.59448], [33.81421, -118.17633], [25.951314, -80.16984599999998], [39.913483, -122.202565], [32.924481, -96.775774], [37.403801, -122.022582], [38.64186, -121.14331], [37.982147, -121.994814], [34.420112, -119.680777], [38.35423, -78.92879], [37.002677, -76.319908], [45.21909, -122.36419], [37.65256, -77.424784], [39.476634, -107.99214], [32.750726, -96.920069], [45.320635, -122.577524], [34.101531, -118.316633], [34.05968, -118.0013], [25.94751, -80.14972900000002], [25.880138, -80.355719], [30.411949, -81.747523], [37.55958, -122.27998999999998], [32.866805, -96.824135], [40.90598, -97.099103], [46.727244, -113.674228], [40.915802, -73.8098], [32.496315, -93.7332], [41.141169, -81.647492], [41.690398, -72.68494799999998], [27.973793, -82.453627], [34.00156, -117.83701299999998], [36.983908, -121.941089], [35.164472, -80.753963], [43.135129, -77.62887099999998], [39.71162, -104.99944], [40.47843, -80.04271], [37.696863, -122.105742], [38.76427, -77.18314000000002], [33.728687, -117.919952], [30.457039, -84.366835], [33.91086, -117.88347], [40.839607, -73.871027], [40.477761, -74.410255], [34.850274, -117.086116], [37.838095, -122.296728], [30.12515, -81.52474000000002], [42.690069, -121.853265], [41.770833, -72.680858], [40.91947, -74.08679000000002], [34.459507, -118.615614], [35.354082, -119.041742], [38.510626, -77.377492], [33.922604, -118.103694], [28.566774, -81.206148], [35.144423, -80.928249], [34.067766, -117.295703], [32.467222, -111.223261], [39.410308, -123.747006], [39.109069, -77.56749599999998], [40.848617, -73.937081], [36.565486, -77.568214], [37.471786, -77.52694], [40.925454, -75.047038], [35.574145, -119.614905], [34.036089000000004, -118.321251], [32.258127, -110.82201200000002], [34.033377, -118.11803799999998], [32.911686, -96.880321], [38.54305, -90.46188], [29.109505, -82.226563], [43.121229, -122.134566], [37.971598, -122.319869], [36.778465, -76.43804], [40.716458, -74.21682], [33.733338, -78.945125], [32.713899, -96.68295], [34.166954, -118.299903], [35.293553, -119.252498], [35.09883, -80.87753000000002], [32.776166, -117.111619], [30.425588, -97.702641], [39.593325, -84.19702099999998], [25.762108, -80.334096], [39.649475, -75.119844], [29.937790000000003, -95.46528], [34.015721, -117.339941], [40.265225, -74.840389], [43.847371, -123.044152], [47.28867, -122.30958], [45.763796, -119.207957], [34.807907, -117.098978], [32.894799, -96.813127], [37.376136, -119.626501], [33.625556, -79.036749], [38.173131, -121.664352], [32.909277, -96.895626], [34.002682, -117.351159], [34.948078, -78.928946], [36.074404, -79.185924], [33.515061, -86.823708], [38.880838, -76.9649], [25.850936, -80.318299], [41.70337, -73.9505], [42.259313, -85.531076], [25.921286, -80.288414], [29.661142, -95.557817], [36.499738, -86.667082], [32.904953000000006, -96.453618], [33.966349, -112.720594], [36.168583, -86.814131], [46.686938, -92.884214], [40.37537, -111.55606], [28.23193, -81.65016], [37.700407, -122.471279], [38.56334, -121.63861], [40.786796, -73.809703], [42.752276, -73.929973], [40.699235, -73.983912], [29.987581, -90.075562], [35.117432, -80.930089], [34.186646, -118.474262], [28.381991, -81.505323], [33.978698, -117.549041], [45.3717, -122.324551], [28.420886, -81.370338], [36.561718, -121.908048], [45.5699, -122.5509], [32.898509999999995, -96.71481], [32.842420000000004, -97.34704], [40.915797, -96.476545], [33.787440000000004, -116.35732], [34.07221, -117.90351], [37.828028, -122.29443700000002], [47.52103, -122.36455], [25.923378, -80.293072], [37.787349, -122.247952], [37.830669, -122.293345], [40.49086, -79.881743], [37.492591, -120.794259], [41.437223, -77.280439], [32.78117, -96.91779], [29.916949, -90.10346], [28.59755, -81.29899], [39.129449, -121.050421], [41.78113, -87.63078], [29.69946, -95.51889], [42.40836, -83.07694000000002], [42.87587, -87.93726], [36.863951, -76.195027], [39.088829, -76.995245], [37.739242, -121.452948], [33.850733, -117.843915], [41.136974, -77.443923], [46.072764, -122.904423], [30.106562, -84.633597], [44.95174, -93.16706], [40.089281, -74.823923], [44.453326, -90.130334], [42.05977, -88.04700000000004], [34.067440000000005, -117.56762], [44.98853, -122.99691], [36.576186, -119.629072], [38.684975, -121.363768], [45.245628, -123.125067], [40.159741, -75.327025], [32.884429, -86.621736], [39.245749, -122.181755], [42.26221, -85.19343], [25.972505, -80.23812099999998], [44.986127, -93.28857], [30.367725, -81.66896], [36.746663, -119.804227], [30.083739, -95.436739], [38.62721, -77.072989], [35.86057, -78.54986], [38.25446, -122.703331], [38.910087, -94.695249], [26.34587, -80.118], [25.793704, -80.306427], [42.808243, -78.805894], [34.17223, -118.50101399999998], [38.710364, -121.075461], [34.27544, -118.65719], [42.385048, -83.21749100000002], [33.925715999999994, -118.177702], [38.915, -76.54974], [41.332009, -77.717892], [37.66758, -121.034091], [34.156698, -118.403799], [34.033303000000004, -118.12502], [42.804842, -73.634129], [39.753226, -86.216876], [29.70423, -95.27579], [41.70129, -71.47436], [33.172506, -87.44287299999998], [32.275945, -110.919805], [44.783266, -117.80969], [41.50196, -87.31965], [43.617708, -116.28418], [40.258071, -84.976233], [38.044623, -121.320981], [30.415952, -91.071397], [32.909557, -96.791768], [36.454598, -119.491819], [44.543026, -93.885411], [33.17923, -117.3479], [25.703506, -80.33425600000002], [39.59611, -76.06092], [42.883798, -85.629165], [47.278698, -122.310732], [30.394699, -97.869304], [45.278589, -122.944756], [37.57019, -112.80477], [44.331037, -93.951346], [25.76779, -80.368875], [32.813913, -96.812203], [39.014663, -122.07066], [39.403963, -76.571754], [47.62541, -122.3436], [37.775432, -121.974474], [25.566948, -80.38088499999998], [33.808354, -81.005533], [29.810068, -95.399335], [32.984765, -87.792187], [33.94713, -118.09311], [35.750928, -117.393612], [40.085536, -75.093615], [37.504552, -77.617726], [29.958204, -90.070585], [39.050383, -111.12272], [45.53816, -122.669575], [33.70545300000001, -117.954392], [36.156591, -86.79039399999998], [46.616545, -93.612366], [39.70261, -77.31434], [34.913746, -118.923751], [40.484801, -74.400025], [39.615785, -75.631784], [43.157072, -77.701259], [36.986856, -120.018536], [42.609471, -79.022213], [40.89363, -74.12781], [33.871457, -79.117762], [37.808253, -122.366974], [39.870689, -75.647974], [37.00301500000001, -119.527634], [29.930783, -90.11739], [38.415541, -120.60991], [42.916758, -73.877612], [33.462134000000006, -112.249191], [39.86384, -104.98748], [28.546774, -81.211522], [39.15928, -84.56345], [34.266090000000005, -118.47207], [32.97895, -117.08664], [38.920879, -76.852836], [32.925266, -96.797734], [37.952563, -122.054794], [42.566756, -82.914137], [28.054166, -82.336173], [38.100642, -120.469837], [36.131543, -86.83395300000002], [32.157762, -110.92686], [37.551215, -77.428067], [42.947446, -78.652273], [34.021149, -118.477538], [28.540686, -81.475864], [47.38629, -122.29004], [40.29858, -83.0635], [42.06665, -88.187809], [45.720216, -119.0184], [30.431618, -91.080788], [33.689012, -117.919357], [33.046048, -80.424148], [25.718563, -80.29615], [34.829198, -82.524412], [36.716824, -80.333523], [40.58776, -111.94497], [28.357378000000004, -81.494599], [35.870128, -78.417817], [33.71289, -117.78528], [26.49367, -81.972094], [38.670304, -121.382819], [37.706564, -122.119847], [45.53207, -122.63294], [33.821679, -118.08158], [42.961988, -71.415123], [33.85532, -84.24665], [25.496814, -80.412238], [29.019437, -82.220943], [36.834224, -76.290126], [25.854147, -80.20826600000002], [38.993164, -78.404375], [40.82984, -81.39383000000002], [35.18431, -80.75681999999998], [44.041432, -92.902354], [42.40449, -83.218463], [33.38602, -111.81078], [33.908168, -81.22223199999998], [38.79329, -77.02556], [28.449924, -81.479136], [33.58553, -84.37836999999998], [26.165753, -80.16776], [44.94715, -93.0406], [35.3614, -80.85433], [39.273548, -123.190377], [39.403291, -80.202652], [43.74986, -123.12161], [39.236501, -76.710523], [40.80721, -73.23011], [28.493792, -81.459929], [34.316692, -117.479754], [38.680619, -77.231408], [37.958825, -78.657159], [44.89665, -93.350074], [33.975177, -118.241163], [47.529003, -95.531805], [32.84114, -83.64686999999998], [34.068179, -117.848822], [38.957031, -77.02814000000002], [42.198412, -88.058032], [34.615590999999995, -81.900211], [35.836597, -78.665531], [32.901920000000004, -117.22388], [32.660470000000004, -117.06827], [39.39228, -123.810914], [27.996467, -82.360733], [44.257886, -121.1804], [25.71606400000001, -80.41524], [45.032905, -93.400665], [25.78875, -80.20004], [44.618542, -123.727972], [33.963913, -117.324977], [33.868, -84.28513000000002], [43.060335, -83.79717099999998], [37.694171, -122.073971], [42.46204, -73.59238], [47.28833, -122.25847], [39.251871, -76.677684], [40.411152, -111.864903], [35.802546, -78.78297099999997], [36.658597, -121.621484], [29.822777, -95.56427], [39.89375, -75.22066], [34.967347, -81.309387], [30.25894000000001, -81.51801], [33.763511, -78.97229200000002], [33.510937, -112.116975], [37.520316, -121.983808], [37.490422, -76.987359], [36.733542, -119.802079], [44.14558, -121.33127], [37.750051, -77.45701600000002], [40.89135, -72.43974], [35.788992, -78.66019399999998], [32.746022, -96.917736], [39.1736, -84.4908], [45.371519, -92.896125], [40.708508, -111.90397], [38.55615, -121.44319], [40.90107, -111.89273], [32.79168, -96.74289], [36.736332, -119.804937], [26.525147, -80.072721], [28.337923, -82.68169499999998], [34.641083, -117.220548], [36.73901400000001, -119.777696], [44.862254, -93.258143], [39.78559, -75.5459], [41.043482, -73.777821], [42.35964, -87.89237], [37.501452, -77.525737], [43.108152, -124.160925], [28.356892, -81.522921], [34.067452, -117.539978], [30.446299, -91.179856], [34.37294, -116.85992], [25.823981, -80.238842], [33.688855, -117.870659], [38.45504, -122.62599], [34.994094, -82.177417], [27.89975, -82.401736], [33.854, -117.95924], [34.176975, -118.872681], [32.556984, -117.063591], [28.35754600000001, -80.655233], [40.781179, -77.801402], [32.134127, -110.969153], [33.378834999999995, -111.892415], [28.354239, -81.494564], [41.702861, -73.945826], [37.847842, -122.298741], [32.837123, -97.044265], [35.836687, -78.656829], [32.79133, -96.75073], [47.72648, -122.291], [38.55964, -121.372124], [37.964816, -122.136602], [37.33965, -121.85221], [38.794366, -111.289862], [37.992872, -122.07451299999998], [34.27362, -118.573755], [28.364526, -81.516458], [39.912129, -75.11595200000002], [32.783203, -117.20797], [25.896281, -80.243488], [40.82454, -73.931003], [37.936424, -122.06009], [26.696702, -81.920317], [39.753318, -121.96138700000002], [29.81395, -95.37916], [34.040627, -118.07689], [37.6986, -122.0284], [38.89041, -77.031959], [39.78364000000001, -105.00322], [33.858831, -118.033767], [40.575717, -75.547174], [36.539342, -119.834497], [35.245674, -78.37445799999998], [39.00509, -77.081575], [37.43077, -121.88685], [35.13439, -118.478688], [37.888828, -122.176407], [38.97606, -82.52041], [37.02561, -120.137418], [41.21799, -96.09101], [42.80612, -86.10296], [28.53546, -81.310448], [34.349817, -119.056974], [35.261245, -80.837012], [34.073061, -118.219156], [34.010638, -118.281261], [43.58746, -120.09884], [37.382933, -122.070742], [35.021904, -80.849138], [37.891752, -122.308622], [34.03284, -118.170366], [36.03305, -79.80118], [33.57798, -84.34121999999998], [34.385454, -118.483067], [26.467069, -80.08903000000002], [28.12413, -80.705813], [36.390248, -119.215635], [30.387503, -97.649666], [35.834443, -78.638459], [34.003772, -118.281556], [34.136399, -117.542735], [25.92602, -80.21037], [44.72712, -124.05769], [38.834385, -77.449378], [43.03036, -87.99065999999998], [29.639934000000004, -82.401767], [40.893251, -74.649387], [42.26759000000001, -83.2197], [45.06812, -93.25382], [38.882342, -77.019213], [33.138290000000005, -117.15726], [36.462802, -121.384111], [30.19138, -81.71025], [38.88458, -77.01263], [41.09780900000001, -75.961402], [33.818868, -117.515333], [37.360371, -121.916044], [33.022832, -117.273425], [29.197335, -82.184762], [39.329226, -120.292867], [35.33237000000001, -80.85244], [34.198, -118.47405], [36.158897, -86.68148000000002], [43.648348, -116.371251], [25.685499, -80.41393199999997], [37.000976, -76.40580200000002], [39.699635, -106.676728], [35.717931, -119.222109], [31.36417800000001, -89.35341600000002], [29.026018, -82.12043100000002], [33.877362, -118.072696], [41.44658, -81.76679], [39.18742, -77.2576], [40.631297, -111.883858], [28.206891, -82.666226], [34.0273, -118.45763], [33.952674, -118.369196], [39.823165, -75.441797], [26.519269, -80.072703], [38.128985, -77.512997], [34.094679, -117.200296], [34.264324, -117.185988], [33.916348, -118.253266], [42.02517, -88.33898], [39.80514, -86.166], [26.83497, -80.0987], [37.98022, -122.06562], [34.068356, -117.974928], [43.608244, -116.354632], [41.50606, -112.01588], [41.496723, -94.753314], [37.73226, -122.43197], [39.823968, -104.961301], [37.504797, -77.61495699999998], [40.33279, -104.98006], [25.810672, -80.181602], [33.943690999999994, -80.647684], [36.07317000000001, -79.16331], [39.009469, -121.10493999999998], [38.078354, -112.683508], [36.85472100000001, -121.633061], [34.021482, -117.550095], [34.287611, -80.773512], [34.127981, -118.346336], [39.455652, -76.312348], [47.97691, -122.19031]],\n",
              "                {&quot;blur&quot;: 15, &quot;maxZoom&quot;: 18, &quot;minOpacity&quot;: 0.5, &quot;radius&quot;: 25}\n",
              "            ).addTo(map_edbd9aa020d561b63767ac5f8a635b56);\n",
              "        \n",
              "&lt;/script&gt;\" style=\"position:absolute;width:100%;height:100%;left:0;top:0;border:none !important;\" allowfullscreen webkitallowfullscreen mozallowfullscreen></iframe></div></div>"
            ]
          },
          "metadata": {},
          "execution_count": 87
        }
      ]
    },
    {
      "cell_type": "markdown",
      "source": [
        "## Summary and Conclusion\n",
        "\n",
        "\n",
        "Insights:\n",
        "- No data from New York\n",
        "- The number of accidents per city decreases exponentially\n",
        "- Less than 4% of cities have more than 1000 yearly accidents.\n",
        "- Over 1000 cities have reported just one accident (need to investigate)"
      ],
      "metadata": {
        "id": "eu4vL22I4jza"
      }
    },
    {
      "cell_type": "code",
      "source": [
        "import jovian"
      ],
      "metadata": {
        "id": "0Mt3QBLi6pyQ"
      },
      "execution_count": 90,
      "outputs": []
    },
    {
      "cell_type": "code",
      "source": [
        "jovian.commit()"
      ],
      "metadata": {
        "colab": {
          "base_uri": "https://localhost:8080/",
          "height": 122
        },
        "id": "4StIYFSW6ppE",
        "outputId": "efd45093-c649-4d65-b711-bc61fcadbcc3"
      },
      "execution_count": 91,
      "outputs": [
        {
          "output_type": "stream",
          "name": "stdout",
          "text": [
            "[jovian] Detected Colab notebook...\u001b[0m\n",
            "[jovian] Please enter your API key ( from https://jovian.ai/ ):\u001b[0m\n",
            "API KEY: ··········\n",
            "[jovian] Uploading colab notebook to Jovian...\u001b[0m\n",
            "Committed successfully! https://jovian.ai/niphadeshreya98/us-accidents-analysis\n"
          ]
        },
        {
          "output_type": "execute_result",
          "data": {
            "text/plain": [
              "'https://jovian.ai/niphadeshreya98/us-accidents-analysis'"
            ],
            "application/vnd.google.colaboratory.intrinsic+json": {
              "type": "string"
            }
          },
          "metadata": {},
          "execution_count": 91
        }
      ]
    }
  ],
  "metadata": {
    "kernelspec": {
      "display_name": "Python 3",
      "language": "python",
      "name": "python3"
    },
    "language_info": {
      "codemirror_mode": {
        "name": "ipython",
        "version": 3
      },
      "file_extension": ".py",
      "mimetype": "text/x-python",
      "name": "python",
      "nbconvert_exporter": "python",
      "pygments_lexer": "ipython3",
      "version": "3.7.6"
    },
    "colab": {
      "provenance": [],
      "include_colab_link": true
    }
  },
  "nbformat": 4,
  "nbformat_minor": 0
}